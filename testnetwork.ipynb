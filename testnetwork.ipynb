{
 "cells": [
  {
   "cell_type": "markdown",
   "metadata": {},
   "source": [
    "# Test network model"
   ]
  },
  {
   "cell_type": "code",
   "execution_count": 1,
   "metadata": {},
   "outputs": [],
   "source": [
    "%load_ext autoreload\n",
    "%autoreload 2\n",
    "# %matplotlib widget"
   ]
  },
  {
   "cell_type": "code",
   "execution_count": 7,
   "metadata": {},
   "outputs": [],
   "source": [
    "import numpy as np\n",
    "import pandas as pd\n",
    "import matplotlib.pyplot as plt\n",
    "import seaborn as sns\n",
    "\n",
    "from logger import logger\n",
    "from networkmodel import NetworkModel\n",
    "from utils import *"
   ]
  },
  {
   "cell_type": "markdown",
   "metadata": {},
   "source": [
    "### Construct model"
   ]
  },
  {
   "cell_type": "code",
   "execution_count": 68,
   "metadata": {},
   "outputs": [
    {
     "name": "stdout",
     "output_type": "stream",
     "text": [
      "\u001b[37m 2024/03/05 18:25:56: connectivity matrix:\n",
      "post      E     PV   SST\n",
      "pre                     \n",
      "E     0.002  0.040  0.09\n",
      "PV   -0.015 -0.135 -0.86\n",
      "SST  -0.135 -0.020  0.00\u001b[0m\n",
      "\u001b[37m 2024/03/05 18:25:56: time constants:\n",
      "E      0.010\n",
      "PV     0.005\n",
      "SST    0.005\n",
      "Name: tau (s), dtype: float64\u001b[0m\n"
     ]
    },
    {
     "data": {
      "image/png": "[encoded data removed]",
      "text/plain": [
       "<Figure size 216x216 with 1 Axes>"
      ]
     },
     "metadata": {
      "needs_background": "light"
     },
     "output_type": "display_data"
    }
   ],
   "source": [
    "# Population names\n",
    "populations = ['E', 'PV', 'SST']\n",
    "    \n",
    "# Connectivity matrix (from Plaksin et al. 2016)\n",
    "W = pd.DataFrame(\n",
    "    data=[\n",
    "        [0.002, 0.04, 0.09],      # E -> E, PV, SST \n",
    "        [-0.015, -0.135, -0.86],  # PV -> E, PV, SST\n",
    "        [-0.135, -0.02, 0]        # SST -> E, PV, SST\n",
    "    ], \n",
    "    index=pd.Index(populations, name='pre'), \n",
    "    columns=pd.Index(populations, name='post')\n",
    ")\n",
    "\n",
    "# Time constants\n",
    "tau = pd.Series(\n",
    "    data={\n",
    "        'E': 0.01, \n",
    "        'PV': .005, \n",
    "        'SST': .005\n",
    "    },\n",
    "    name='tau (s)'\n",
    ")\n",
    "\n",
    "# Gain function\n",
    "# fgain = lambda x: mysqrt(x, A=1, x0=1)\n",
    "fgain = lambda x: sigmoid(x, x0=5, sigma=1)\n",
    "\n",
    "# Initialize model\n",
    "model = NetworkModel(W, tau, fgain)\n",
    "logger.info(f'connectivity matrix:\\n{model.Wstr}')\n",
    "logger.info(f'time constants:\\n{model.taustr}')\n",
    "\n",
    "# Plot model gain function\n",
    "fig = model.plot_fgain()"
   ]
  },
  {
   "cell_type": "markdown",
   "metadata": {},
   "source": [
    "### Run simulation"
   ]
  },
  {
   "cell_type": "code",
   "execution_count": 76,
   "metadata": {},
   "outputs": [
    {
     "name": "stdout",
     "output_type": "stream",
     "text": [
      "\u001b[37m 2024/03/05 18:27:18: initial conditions\u001b[0m\n"
     ]
    },
    {
     "data": {
      "text/html": [
       "<div>\n",
       "<style scoped>\n",
       "    .dataframe tbody tr th:only-of-type {\n",
       "        vertical-align: middle;\n",
       "    }\n",
       "\n",
       "    .dataframe tbody tr th {\n",
       "        vertical-align: top;\n",
       "    }\n",
       "\n",
       "    .dataframe thead th {\n",
       "        text-align: right;\n",
       "    }\n",
       "</style>\n",
       "<table border=\"1\" class=\"dataframe\">\n",
       "  <thead>\n",
       "    <tr style=\"text-align: right;\">\n",
       "      <th></th>\n",
       "      <th>activity</th>\n",
       "    </tr>\n",
       "  </thead>\n",
       "  <tbody>\n",
       "    <tr>\n",
       "      <th>E</th>\n",
       "      <td>0.006686</td>\n",
       "    </tr>\n",
       "    <tr>\n",
       "      <th>PV</th>\n",
       "      <td>0.006688</td>\n",
       "    </tr>\n",
       "    <tr>\n",
       "      <th>SST</th>\n",
       "      <td>0.006659</td>\n",
       "    </tr>\n",
       "  </tbody>\n",
       "</table>\n",
       "</div>"
      ],
      "text/plain": [
       "     activity\n",
       "E    0.006686\n",
       "PV   0.006688\n",
       "SST  0.006659"
      ]
     },
     "metadata": {},
     "output_type": "display_data"
    },
    {
     "name": "stdout",
     "output_type": "stream",
     "text": [
      "\u001b[37m 2024/03/05 18:27:18: external input\u001b[0m\n"
     ]
    },
    {
     "data": {
      "text/html": [
       "<div>\n",
       "<style scoped>\n",
       "    .dataframe tbody tr th:only-of-type {\n",
       "        vertical-align: middle;\n",
       "    }\n",
       "\n",
       "    .dataframe tbody tr th {\n",
       "        vertical-align: top;\n",
       "    }\n",
       "\n",
       "    .dataframe thead th {\n",
       "        text-align: right;\n",
       "    }\n",
       "</style>\n",
       "<table border=\"1\" class=\"dataframe\">\n",
       "  <thead>\n",
       "    <tr style=\"text-align: right;\">\n",
       "      <th></th>\n",
       "      <th>external input</th>\n",
       "    </tr>\n",
       "  </thead>\n",
       "  <tbody>\n",
       "    <tr>\n",
       "      <th>E</th>\n",
       "      <td>2.0</td>\n",
       "    </tr>\n",
       "    <tr>\n",
       "      <th>PV</th>\n",
       "      <td>0.0</td>\n",
       "    </tr>\n",
       "    <tr>\n",
       "      <th>SST</th>\n",
       "      <td>3.0</td>\n",
       "    </tr>\n",
       "  </tbody>\n",
       "</table>\n",
       "</div>"
      ],
      "text/plain": [
       "     external input\n",
       "E               2.0\n",
       "PV              0.0\n",
       "SST             3.0"
      ]
     },
     "metadata": {},
     "output_type": "display_data"
    },
    {
     "name": "stdout",
     "output_type": "stream",
     "text": [
      "\u001b[37m 2024/03/05 18:27:18: NetworkModel([E, PV, SST]): running 1.0 s long simulation\u001b[0m\n",
      "\u001b[37m 2024/03/05 18:27:18: simulation completed in 0.008 s\u001b[0m\n"
     ]
    },
    {
     "data": {
      "image/png": "[encoded data removed]",
      "text/plain": [
       "<Figure size 504x432 with 3 Axes>"
      ]
     },
     "metadata": {
      "needs_background": "light"
     },
     "output_type": "display_data"
    }
   ],
   "source": [
    "# Initial conditions\n",
    "r0 = model.compute_steady_state()\n",
    "logger.info('initial conditions')\n",
    "display(r0.to_frame())\n",
    "\n",
    "# External input\n",
    "s = pd.Series({\n",
    "    'E': 2.,\n",
    "    'PV': 0.,\n",
    "    'SST': 3., \n",
    "}, name='external input')\n",
    "logger.info('external input')\n",
    "display(s.to_frame())\n",
    "\n",
    "# Find stead-state activity for given input amplitudes\n",
    "rss = model.compute_steady_state(s=s)\n",
    "\n",
    "# Simulate model\n",
    "tstop = 1.  # s\n",
    "data = model.simulate(r0, tstop, s=s)\n",
    "\n",
    "# Plot results\n",
    "fig1 = model.plot_timeseries(data, ss=rss)\n",
    "# fig2 = model.plot_trajectory(data, ss=rss)"
   ]
  },
  {
   "cell_type": "code",
   "execution_count": null,
   "metadata": {},
   "outputs": [],
   "source": []
  }
 ],
 "metadata": {
  "kernelspec": {
   "display_name": "Python 3 (ipykernel)",
   "language": "python",
   "name": "python3"
  },
  "language_info": {
   "codemirror_mode": {
    "name": "ipython",
    "version": 3
   },
   "file_extension": ".py",
   "mimetype": "text/x-python",
   "name": "python",
   "nbconvert_exporter": "python",
   "pygments_lexer": "ipython3",
   "version": "3.8.13"
  }
 },
 "nbformat": 4,
 "nbformat_minor": 2
}
