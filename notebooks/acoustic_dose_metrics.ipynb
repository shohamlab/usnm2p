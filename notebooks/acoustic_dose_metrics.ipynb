{
 "cells": [
  {
   "cell_type": "markdown",
   "metadata": {},
   "source": [
    "# Derivation of acoustic dose metrics"
   ]
  },
  {
   "cell_type": "markdown",
   "metadata": {},
   "source": [
    "### Imports"
   ]
  },
  {
   "cell_type": "code",
   "execution_count": 1,
   "metadata": {},
   "outputs": [],
   "source": [
    "%load_ext autoreload\n",
    "%autoreload 2"
   ]
  },
  {
   "cell_type": "code",
   "execution_count": 2,
   "metadata": {},
   "outputs": [],
   "source": [
    "from usnm2p.utils import *"
   ]
  },
  {
   "cell_type": "markdown",
   "metadata": {},
   "source": [
    "### Stimulus parameters"
   ]
  },
  {
   "cell_type": "code",
   "execution_count": 3,
   "metadata": {},
   "outputs": [],
   "source": [
    "f = 2.1  # MHz\n",
    "Pmax = .8  # MPa\n",
    "DCmax = 80.  # %\n",
    "BD = 200  # ms"
   ]
  },
  {
   "cell_type": "markdown",
   "metadata": {},
   "source": [
    "### Derived dose parameters"
   ]
  },
  {
   "cell_type": "code",
   "execution_count": 5,
   "metadata": {},
   "outputs": [
    {
     "name": "stdout",
     "output_type": "stream",
     "text": [
      "MI_max = 0.55\n",
      "ISPTA_max = 15.83 W/cm^2\n",
      "17.84836018954257\n",
      "max temperature increase = 0.30 °C\n"
     ]
    }
   ],
   "source": [
    "# Mechanical index\n",
    "MI_max = compute_mechanical_index(f, Pmax)\n",
    "print(f'MI_max = {MI_max:.2f}')\n",
    "\n",
    "# ISPTA\n",
    "ISPPA_max = pressure_to_intensity(Pmax * 1e6) * 1e-4  # W/cm^2\n",
    "ISPTA_max = ISPPA_max * DCmax * 1e-2  # W/cm^2\n",
    "print(f'ISPTA_max = {ISPTA_max:.2f} W/cm^2')\n",
    "\n",
    "# Temperature increase\n",
    "dT_dt = compute_heat_generation_rate(f, ISPTA_max)  # °C/s\n",
    "alpha = compute_attenuation_coefficient(f)  # Np/m\n",
    "print(alpha)\n",
    "DT = dT_dt * (BD * 1e-3)  # °C\n",
    "print(f'max temperature increase = {DT:.2f} °C')"
   ]
  }
 ],
 "metadata": {
  "kernelspec": {
   "display_name": "usnm2p",
   "language": "python",
   "name": "python3"
  },
  "language_info": {
   "codemirror_mode": {
    "name": "ipython",
    "version": 3
   },
   "file_extension": ".py",
   "mimetype": "text/x-python",
   "name": "python",
   "nbconvert_exporter": "python",
   "pygments_lexer": "ipython3",
   "version": "3.8.13"
  }
 },
 "nbformat": 4,
 "nbformat_minor": 2
}
