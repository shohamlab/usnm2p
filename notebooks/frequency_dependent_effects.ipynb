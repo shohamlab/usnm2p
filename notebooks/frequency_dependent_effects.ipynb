{
 "cells": [
  {
   "cell_type": "markdown",
   "id": "748cd988",
   "metadata": {},
   "source": [
    "# Analysis of frequency-dependent exposure metrics"
   ]
  },
  {
   "cell_type": "markdown",
   "id": "67886f7e",
   "metadata": {},
   "source": [
    "### Imports"
   ]
  },
  {
   "cell_type": "code",
   "execution_count": 1,
   "id": "d4949ee2",
   "metadata": {},
   "outputs": [],
   "source": [
    "%load_ext autoreload\n",
    "%autoreload 2"
   ]
  },
  {
   "cell_type": "code",
   "execution_count": 2,
   "id": "7d7443ac",
   "metadata": {},
   "outputs": [],
   "source": [
    "import os\n",
    "import numpy as np\n",
    "import matplotlib.pyplot as plt\n",
    "import seaborn as sns\n",
    "import pandas as pd\n",
    "\n",
    "from usnm2p.logger import logger\n",
    "from usnm2p.constants import *\n",
    "from usnm2p.utils import compute_radiation_force, compute_mechanical_index, compute_temperature_increase, pressure_to_intensity, interpolate_at\n",
    "from usnm2p.fileops import get_data_root\n",
    "from usnm2p.plotters import *"
   ]
  },
  {
   "cell_type": "markdown",
   "id": "3da1e881",
   "metadata": {},
   "source": [
    "### Stimulation parameters"
   ]
  },
  {
   "cell_type": "code",
   "execution_count": 3,
   "id": "ddd16e19",
   "metadata": {},
   "outputs": [
    {
     "name": "stdout",
     "output_type": "stream",
     "text": [
      "\u001b[37m 2025/10/24 14:11:37: stimulation parameters:\n",
      "  - P = 0.80 MPa\n",
      "  - DC = 80 %\n",
      "  - duration = 0.200 s\n",
      "  - ISPPA = 19.78 W/cm2\n",
      "  - ISPTA = 15.83 W/cm2\u001b[0m\n"
     ]
    }
   ],
   "source": [
    "# Frequency range (MHz)\n",
    "fbounds = (0.1, 50.)  # frequency range (MHz)\n",
    "freqs = np.logspace(*np.log10(np.array(fbounds)), 500)\n",
    "freqidx = pd.Index(freqs, name='frequency (MHz)')\n",
    "fhuman_bounds = (0.2, 0.7)  # range of frequencies used in human sutdies (MHz)\n",
    "fhuman = 0.5  # reference frequency used for human studies (MHz)\n",
    "fother = np.array([  # list of other frequencies of interest (MHz)\n",
    "    2.1,  # this work \n",
    "    30.  # high-frequency rodent studies \n",
    "])\n",
    "\n",
    "# Stimulation parameters\n",
    "BD = 0.2  # sonication duration (s)\n",
    "DC = 0.8  # stimulus duty cycle (-)\n",
    "P_MPA = P_REF  # reference pressure (MPa)\n",
    "ISPPA = pressure_to_intensity(P_MPA / PA_TO_MPA) / M2_TO_CM2  # pulse average intensity (W/cm2)\n",
    "ISPTA = ISPPA * DC  # time-average intensity (W/cm2)\n",
    "stimlog = '\\n'.join(f'  - {s}' for s in [\n",
    "    f'P = {P_MPA:.2f} MPa',\n",
    "    f'DC = {DC * 1e2:.0f} %',\n",
    "    f'duration = {BD:.3f} s',\n",
    "    f'ISPPA = {ISPPA:.2f} W/cm2',\n",
    "    f'ISPTA = {ISPTA:.2f} W/cm2',\n",
    "])\n",
    "logger.info(f'stimulation parameters:\\n{stimlog}')"
   ]
  },
  {
   "cell_type": "markdown",
   "id": "f725f4e4",
   "metadata": {},
   "source": [
    "### Compute exposure metrics over frequency range"
   ]
  },
  {
   "cell_type": "code",
   "execution_count": 4,
   "id": "e193396a",
   "metadata": {},
   "outputs": [
    {
     "name": "stdout",
     "output_type": "stream",
     "text": [
      "\u001b[37m 2025/10/24 14:11:37: computing effects across frequency range\u001b[0m\n",
      "\u001b[37m 2025/10/24 14:11:37: interpolated effects at frequencies of interest:\u001b[0m\n"
     ]
    },
    {
     "data": {
      "text/html": [
       "<div>\n",
       "<style scoped>\n",
       "    .dataframe tbody tr th:only-of-type {\n",
       "        vertical-align: middle;\n",
       "    }\n",
       "\n",
       "    .dataframe tbody tr th {\n",
       "        vertical-align: top;\n",
       "    }\n",
       "\n",
       "    .dataframe thead th {\n",
       "        text-align: right;\n",
       "    }\n",
       "</style>\n",
       "<table border=\"1\" class=\"dataframe\">\n",
       "  <thead>\n",
       "    <tr style=\"text-align: right;\">\n",
       "      <th></th>\n",
       "      <th>mechanical index (-)</th>\n",
       "      <th>radiation force (N/m3)</th>\n",
       "      <th>temperature increase (°C)</th>\n",
       "    </tr>\n",
       "    <tr>\n",
       "      <th>frequency (MHz)</th>\n",
       "      <th></th>\n",
       "      <th></th>\n",
       "      <th></th>\n",
       "    </tr>\n",
       "  </thead>\n",
       "  <tbody>\n",
       "    <tr>\n",
       "      <th>0.5</th>\n",
       "      <td>1.131382</td>\n",
       "      <td>707.029195</td>\n",
       "      <td>0.046069</td>\n",
       "    </tr>\n",
       "    <tr>\n",
       "      <th>2.1</th>\n",
       "      <td>0.552060</td>\n",
       "      <td>4567.329689</td>\n",
       "      <td>0.297603</td>\n",
       "    </tr>\n",
       "    <tr>\n",
       "      <th>30.0</th>\n",
       "      <td>0.146059</td>\n",
       "      <td>144887.814269</td>\n",
       "      <td>9.440767</td>\n",
       "    </tr>\n",
       "  </tbody>\n",
       "</table>\n",
       "</div>"
      ],
      "text/plain": [
       "                 mechanical index (-)  radiation force (N/m3)  \\\n",
       "frequency (MHz)                                                 \n",
       "0.5                          1.131382              707.029195   \n",
       "2.1                          0.552060             4567.329689   \n",
       "30.0                         0.146059           144887.814269   \n",
       "\n",
       "                 temperature increase (°C)  \n",
       "frequency (MHz)                             \n",
       "0.5                               0.046069  \n",
       "2.1                               0.297603  \n",
       "30.0                              9.440767  "
      ]
     },
     "execution_count": 4,
     "metadata": {},
     "output_type": "execute_result"
    }
   ],
   "source": [
    "# Compute effects across frequencies\n",
    "logger.info('computing effects across frequency range')\n",
    "effects = pd.DataFrame({\n",
    "    'mechanical index (-)': compute_mechanical_index(freqs, P_MPA),\n",
    "    'radiation force (N/m3)': compute_radiation_force(freqs, ISPPA),\n",
    "    'temperature increase (°C)': compute_temperature_increase(freqs, ISPTA, BD)\n",
    "}, index=freqidx)\n",
    "\n",
    "# Interpolate effects at frequencies of interest\n",
    "target_effects = interpolate_at(effects, np.hstack([fhuman, fother]))\n",
    "ref_effects = target_effects.loc[fhuman]\n",
    "other_effects = target_effects.loc[fother]\n",
    "logger.info(f'interpolated effects at frequencies of interest:')\n",
    "target_effects"
   ]
  },
  {
   "cell_type": "markdown",
   "id": "617d0411",
   "metadata": {},
   "source": [
    "### Compute dimension ratios over frequency range"
   ]
  },
  {
   "cell_type": "code",
   "execution_count": 5,
   "id": "1bb01331",
   "metadata": {},
   "outputs": [
    {
     "name": "stdout",
     "output_type": "stream",
     "text": [
      "\u001b[37m 2025/10/24 14:11:37: reference dimension ratio in human studies: 0.024\u001b[0m\n",
      "\u001b[37m 2025/10/24 14:11:37: frequency at which dimension ratio in mouse would match that seen in human studies\u001b[0m\n"
     ]
    }
   ],
   "source": [
    "# Brain dimensions for mouse and human (in mm)\n",
    "brain_dims = pd.DataFrame({\n",
    "    'human': np.array([160, 140, 90]),\n",
    "    'mouse': np.array([14, 8, 6]),\n",
    "}, index=['length (mm)', 'width (mm)', 'height (mm)'])\n",
    "\n",
    "# Compute average brain dimensions\n",
    "avg_brain_dims = brain_dims.mean().rename('brain dimension (mm)')\n",
    "\n",
    "# Compute wavelength over frequencies\n",
    "wvlength = C_BRAIN / freqs * 1e-3  # mm \n",
    "whuman = C_BRAIN / fhuman * 1e-3  # mm\n",
    "\n",
    "# Compute reference dimension ratio of focal size to brain size used in human studies\n",
    "ref_dim_ratio = whuman / avg_brain_dims['human']\n",
    "logger.info(f'reference dimension ratio in human studies: {ref_dim_ratio:.3f}')\n",
    "ref_effects.loc['focal size to brain size'] = ref_dim_ratio\n",
    "\n",
    "# Compute dimension ratio of focal size to mouse brain size across frequency range\n",
    "mouse_dim_ratio = pd.Series(\n",
    "    data=wvlength / avg_brain_dims['mouse'],\n",
    "    index=freqidx,\n",
    ")\n",
    "effects['focal size to brain size'] = mouse_dim_ratio\n",
    "\n",
    "# Compute frequency at which dimension ratio in mouse would match that seen in human studies\n",
    "ratio_match_freq = np.interp(\n",
    "    ref_dim_ratio, mouse_dim_ratio.values[::-1], freqidx[::-1]) \n",
    "logger.info(f'frequency at which dimension ratio in mouse would match that seen in human studies')"
   ]
  },
  {
   "cell_type": "markdown",
   "id": "ebfe01f1",
   "metadata": {},
   "source": [
    "### Plot frequency-dependent trends"
   ]
  },
  {
   "cell_type": "code",
   "execution_count": 15,
   "id": "1eeebc0e",
   "metadata": {},
   "outputs": [
    {
     "name": "stdout",
     "output_type": "stream",
     "text": [
      "\u001b[37m 2025/10/24 14:33:01: computing relatiev effects w.r.t. human case\u001b[0m\n",
      "\u001b[37m 2025/10/24 14:33:01: plotting frequency dependences\u001b[0m\n",
      "\u001b[37m 2025/10/24 14:33:01: relative effects at frequencies of interest:\u001b[0m\n"
     ]
    },
    {
     "data": {
      "text/html": [
       "<div>\n",
       "<style scoped>\n",
       "    .dataframe tbody tr th:only-of-type {\n",
       "        vertical-align: middle;\n",
       "    }\n",
       "\n",
       "    .dataframe tbody tr th {\n",
       "        vertical-align: top;\n",
       "    }\n",
       "\n",
       "    .dataframe thead th {\n",
       "        text-align: right;\n",
       "    }\n",
       "</style>\n",
       "<table border=\"1\" class=\"dataframe\">\n",
       "  <thead>\n",
       "    <tr style=\"text-align: right;\">\n",
       "      <th></th>\n",
       "      <th>mechanical index</th>\n",
       "      <th>radiation force</th>\n",
       "      <th>temperature increase</th>\n",
       "      <th>focal size to brain size</th>\n",
       "    </tr>\n",
       "    <tr>\n",
       "      <th>frequency (MHz)</th>\n",
       "      <th></th>\n",
       "      <th></th>\n",
       "      <th></th>\n",
       "      <th></th>\n",
       "    </tr>\n",
       "  </thead>\n",
       "  <tbody>\n",
       "    <tr>\n",
       "      <th>0.5</th>\n",
       "      <td>1.000000</td>\n",
       "      <td>1.000000</td>\n",
       "      <td>1.000000</td>\n",
       "      <td>13.928952</td>\n",
       "    </tr>\n",
       "    <tr>\n",
       "      <th>2.1</th>\n",
       "      <td>0.487952</td>\n",
       "      <td>6.459888</td>\n",
       "      <td>6.459888</td>\n",
       "      <td>3.316454</td>\n",
       "    </tr>\n",
       "    <tr>\n",
       "      <th>30.0</th>\n",
       "      <td>0.129098</td>\n",
       "      <td>204.924797</td>\n",
       "      <td>204.924797</td>\n",
       "      <td>0.232143</td>\n",
       "    </tr>\n",
       "  </tbody>\n",
       "</table>\n",
       "</div>"
      ],
      "text/plain": [
       "                 mechanical index   radiation force   temperature increase   \\\n",
       "frequency (MHz)                                                               \n",
       "0.5                       1.000000          1.000000               1.000000   \n",
       "2.1                       0.487952          6.459888               6.459888   \n",
       "30.0                      0.129098        204.924797             204.924797   \n",
       "\n",
       "                 focal size to brain size  \n",
       "frequency (MHz)                            \n",
       "0.5                             13.928952  \n",
       "2.1                              3.316454  \n",
       "30.0                             0.232143  "
      ]
     },
     "execution_count": 15,
     "metadata": {},
     "output_type": "execute_result"
    },
    {
     "data": {
      "image/png": "[encoded data removed]",
      "text/plain": [
       "<Figure size 360x360 with 1 Axes>"
      ]
     },
     "metadata": {
      "needs_background": "light"
     },
     "output_type": "display_data"
    }
   ],
   "source": [
    "# Compute relative effects w.r.t human case\n",
    "logger.info('computing relatiev effects w.r.t. human case')\n",
    "rel_effects = effects / ref_effects\n",
    "rel_effects.columns = rel_effects.columns.str.split('(').str[0]\n",
    "\n",
    "# Plot normalized trends\n",
    "logger.info('plotting frequency dependences')\n",
    "fig, ax = plt.subplots(figsize=(5, 5))\n",
    "ax.set_box_aspect(1.)\n",
    "ax.set_title('frequency dependence of acoustic effects')\n",
    "ax.set_xscale('log')\n",
    "ax.set_yscale('log')\n",
    "rel_effects.plot(ax=ax)\n",
    "ax.set_ylabel('relative magnitude w.r.t. human case')\n",
    "ax.grid('on')\n",
    "ax.axvspan(*fhuman_bounds, fc='silver', ec='none', alpha=0.5, label='human range')\n",
    "ax.axvline(fhuman, c='k', lw=2, label='human ref.')\n",
    "ax.legend(loc=(1.05, 0.5), frameon=False)\n",
    "ax.axhline(1, c='k', lw=2)\n",
    "\n",
    "# Label characteristic frequencies\n",
    "ref_rel_effects_dB = interpolate_at(rel_effects, np.hstack([fhuman, fother])) \n",
    "for f, dBvals in ref_rel_effects_dB.iterrows():\n",
    "    ax.axvline(f, ls=':', c='k')\n",
    "    ax.scatter([f] * len(dBvals), dBvals.values, c='k')\n",
    "logger.info('relative effects at frequencies of interest:')\n",
    "ref_rel_effects_dB"
   ]
  },
  {
   "cell_type": "markdown",
   "id": "7b2ea75b",
   "metadata": {},
   "source": [
    "### Save figure"
   ]
  },
  {
   "cell_type": "code",
   "execution_count": 7,
   "id": "b537f68e",
   "metadata": {},
   "outputs": [],
   "source": [
    "figsdir = get_data_root(kind=DataRoot.FIG)\n",
    "fpath = os.path.join(figsdir, 'exposure_vs_freq.pdf')\n",
    "fig.savefig(fpath)"
   ]
  }
 ],
 "metadata": {
  "kernelspec": {
   "display_name": "usnm2p",
   "language": "python",
   "name": "python3"
  },
  "language_info": {
   "codemirror_mode": {
    "name": "ipython",
    "version": 3
   },
   "file_extension": ".py",
   "mimetype": "text/x-python",
   "name": "python",
   "nbconvert_exporter": "python",
   "pygments_lexer": "ipython3",
   "version": "3.8.13"
  }
 },
 "nbformat": 4,
 "nbformat_minor": 5
}
