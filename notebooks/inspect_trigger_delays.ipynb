{
 "cells": [
  {
   "cell_type": "markdown",
   "id": "954f0b4d",
   "metadata": {},
   "source": [
    "# Trigger delays analysis"
   ]
  },
  {
   "cell_type": "code",
   "execution_count": 56,
   "id": "b57b5109",
   "metadata": {},
   "outputs": [
    {
     "name": "stdout",
     "output_type": "stream",
     "text": [
      "The autoreload extension is already loaded. To reload it, use:\n",
      "  %reload_ext autoreload\n",
      "The usnm2p.skip_kernel_extension extension is already loaded. To reload it, use:\n",
      "  %reload_ext usnm2p.skip_kernel_extension\n"
     ]
    }
   ],
   "source": [
    "%load_ext autoreload\n",
    "%load_ext usnm2p.skip_kernel_extension\n",
    "%autoreload 2"
   ]
  },
  {
   "cell_type": "markdown",
   "id": "76995e90",
   "metadata": {},
   "source": [
    "### Imports"
   ]
  },
  {
   "cell_type": "code",
   "execution_count": 57,
   "id": "9f33b561",
   "metadata": {},
   "outputs": [],
   "source": [
    "import os \n",
    "from tqdm import tqdm\n",
    "import seaborn as sns\n",
    "import matplotlib.pyplot as plt\n",
    "\n",
    "from usnm2p.bruker_utils import *\n",
    "from usnm2p.fileops import *\n",
    "from usnm2p.logger import logger\n",
    "from usnm2p.constants import *"
   ]
  },
  {
   "cell_type": "markdown",
   "id": "0814e23b",
   "metadata": {},
   "source": [
    "### Inputs"
   ]
  },
  {
   "cell_type": "code",
   "execution_count": 58,
   "id": "2421e345",
   "metadata": {},
   "outputs": [],
   "source": [
    "dataroot = '/gpfs/home/lemait01/scratch/data/usnm/raw_bruker'\n",
    "analysis = 'offset'\n",
    "mouseline = 'sst'"
   ]
  },
  {
   "cell_type": "markdown",
   "id": "b6798452",
   "metadata": {},
   "source": [
    "### Define function to extract delay"
   ]
  },
  {
   "cell_type": "code",
   "execution_count": 59,
   "id": "fc8b797b",
   "metadata": {},
   "outputs": [],
   "source": [
    "def get_trigger_delay_per_trial(fpath):\n",
    "    _, _, seq_frames, seq_voutputs = parse_bruker_XML(fpath, simplify=False)\n",
    "    try:\n",
    "        trigtimes = seq_voutputs['absoluteTime']\n",
    "    except KeyError as e:\n",
    "        print(fpath)\n",
    "        print(seq_voutputs)\n",
    "        raise e\n",
    "    try:\n",
    "        frametimes = seq_frames['absoluteTime']\n",
    "    except KeyError as e:\n",
    "        print(fpath)\n",
    "        print(seq_frames)\n",
    "        raise e\n",
    "    times = pd.concat({\n",
    "        Label.TRIG: trigtimes,\n",
    "        Label.FRAME: frametimes.loc[seq_voutputs.index].groupby('sequence').first(),\n",
    "    }, axis=1)\n",
    "    times[Label.DELAY] = times[Label.FRAME] - times[Label.TRIG]\n",
    "    times.index = pd.Index(np.arange(len(times)), name= Label.TRIAL)\n",
    "    return times"
   ]
  },
  {
   "cell_type": "markdown",
   "id": "826cbe62",
   "metadata": {},
   "source": [
    "### Extract trigger delays for mouseline and analysis type"
   ]
  },
  {
   "cell_type": "code",
   "execution_count": null,
   "id": "7c099779",
   "metadata": {},
   "outputs": [
    {
     "name": "stdout",
     "output_type": "stream",
     "text": [
      "\u001b[37m 2025/07/11 14:38:53: extracting trigger delays from 20190601_mouse2_region1 XML acquisition files\u001b[0m\n",
      "\u001b[37m 2025/07/11 14:38:53: searching through /gpfs/home/lemait01/scratch/data/usnm/raw_bruker/offset/sst/20190601_mouse2_region1\u001b[0m\n"
     ]
    },
    {
     "name": "stdout",
     "output_type": "stream",
     "text": [
      "\u001b[37m 2025/07/11 14:38:53: found 15 folders containing TIF files\u001b[0m\n"
     ]
    },
    {
     "name": "stderr",
     "output_type": "stream",
     "text": [
      "100%|██████████| 15/15 [00:04<00:00,  3.35it/s]"
     ]
    },
    {
     "name": "stdout",
     "output_type": "stream",
     "text": [
      "\u001b[37m 2025/07/11 14:38:58: extracting trigger delays from 20190518_mouse6_region1 XML acquisition files\u001b[0m\n",
      "\u001b[37m 2025/07/11 14:38:58: searching through /gpfs/home/lemait01/scratch/data/usnm/raw_bruker/offset/sst/20190518_mouse6_region1\u001b[0m\n",
      "\u001b[37m 2025/07/11 14:38:58: found 4 folders containing TIF files\u001b[0m\n"
     ]
    },
    {
     "name": "stderr",
     "output_type": "stream",
     "text": [
      "\n",
      "100%|██████████| 4/4 [00:01<00:00,  3.78it/s]"
     ]
    },
    {
     "name": "stdout",
     "output_type": "stream",
     "text": [
      "\u001b[37m 2025/07/11 14:38:59: extracting trigger delays from 20190601_mouse7_region1 XML acquisition files\u001b[0m\n",
      "\u001b[37m 2025/07/11 14:38:59: searching through /gpfs/home/lemait01/scratch/data/usnm/raw_bruker/offset/sst/20190601_mouse7_region1\u001b[0m\n"
     ]
    },
    {
     "name": "stderr",
     "output_type": "stream",
     "text": [
      "\n"
     ]
    },
    {
     "name": "stdout",
     "output_type": "stream",
     "text": [
      "\u001b[37m 2025/07/11 14:38:59: found 16 folders containing TIF files\u001b[0m\n"
     ]
    },
    {
     "name": "stderr",
     "output_type": "stream",
     "text": [
      "100%|██████████| 16/16 [00:04<00:00,  3.43it/s]"
     ]
    },
    {
     "name": "stdout",
     "output_type": "stream",
     "text": [
      "\u001b[37m 2025/07/11 14:39:03: extracting trigger delays from 20190601_mouse8_region1 XML acquisition files\u001b[0m\n",
      "\u001b[37m 2025/07/11 14:39:03: searching through /gpfs/home/lemait01/scratch/data/usnm/raw_bruker/offset/sst/20190601_mouse8_region1\u001b[0m\n"
     ]
    },
    {
     "name": "stderr",
     "output_type": "stream",
     "text": [
      "\n"
     ]
    },
    {
     "name": "stdout",
     "output_type": "stream",
     "text": [
      "\u001b[37m 2025/07/11 14:39:04: found 15 folders containing TIF files\u001b[0m\n"
     ]
    },
    {
     "name": "stderr",
     "output_type": "stream",
     "text": [
      "100%|██████████| 15/15 [00:04<00:00,  3.33it/s]"
     ]
    },
    {
     "name": "stdout",
     "output_type": "stream",
     "text": [
      "\u001b[37m 2025/07/11 14:39:08: extracting trigger delays from 20190518_mouse7_region1 XML acquisition files\u001b[0m\n",
      "\u001b[37m 2025/07/11 14:39:08: searching through /gpfs/home/lemait01/scratch/data/usnm/raw_bruker/offset/sst/20190518_mouse7_region1\u001b[0m\n"
     ]
    },
    {
     "name": "stderr",
     "output_type": "stream",
     "text": [
      "\n"
     ]
    },
    {
     "name": "stdout",
     "output_type": "stream",
     "text": [
      "\u001b[37m 2025/07/11 14:39:08: found 5 folders containing TIF files\u001b[0m\n"
     ]
    },
    {
     "name": "stderr",
     "output_type": "stream",
     "text": [
      "100%|██████████| 5/5 [00:01<00:00,  3.09it/s]\n"
     ]
    },
    {
     "data": {
      "text/html": [
       "<div>\n",
       "<style scoped>\n",
       "    .dataframe tbody tr th:only-of-type {\n",
       "        vertical-align: middle;\n",
       "    }\n",
       "\n",
       "    .dataframe tbody tr th {\n",
       "        vertical-align: top;\n",
       "    }\n",
       "\n",
       "    .dataframe thead th {\n",
       "        text-align: right;\n",
       "    }\n",
       "</style>\n",
       "<table border=\"1\" class=\"dataframe\">\n",
       "  <thead>\n",
       "    <tr style=\"text-align: right;\">\n",
       "      <th></th>\n",
       "      <th></th>\n",
       "      <th></th>\n",
       "      <th>trigger</th>\n",
       "      <th>frame</th>\n",
       "      <th>delay</th>\n",
       "    </tr>\n",
       "    <tr>\n",
       "      <th>dataset</th>\n",
       "      <th>acquisition</th>\n",
       "      <th>trial</th>\n",
       "      <th></th>\n",
       "      <th></th>\n",
       "      <th></th>\n",
       "    </tr>\n",
       "  </thead>\n",
       "  <tbody>\n",
       "    <tr>\n",
       "      <th rowspan=\"5\" valign=\"top\">20190601_mouse2_region1</th>\n",
       "      <th rowspan=\"5\" valign=\"top\">sst_100frames_100Hz_200ms_3.56Hz_08MPA_50DC_right_2.0mm_backward_1.0mm-058</th>\n",
       "      <th>0</th>\n",
       "      <td>2.936</td>\n",
       "      <td>2.991</td>\n",
       "      <td>0.055</td>\n",
       "    </tr>\n",
       "    <tr>\n",
       "      <th>1</th>\n",
       "      <td>31.24</td>\n",
       "      <td>31.294</td>\n",
       "      <td>0.054</td>\n",
       "    </tr>\n",
       "    <tr>\n",
       "      <th>2</th>\n",
       "      <td>59.537</td>\n",
       "      <td>59.590</td>\n",
       "      <td>0.053</td>\n",
       "    </tr>\n",
       "    <tr>\n",
       "      <th>3</th>\n",
       "      <td>87.846</td>\n",
       "      <td>87.900</td>\n",
       "      <td>0.054</td>\n",
       "    </tr>\n",
       "    <tr>\n",
       "      <th>4</th>\n",
       "      <td>116.147</td>\n",
       "      <td>116.201</td>\n",
       "      <td>0.054</td>\n",
       "    </tr>\n",
       "    <tr>\n",
       "      <th>...</th>\n",
       "      <th>...</th>\n",
       "      <th>...</th>\n",
       "      <td>...</td>\n",
       "      <td>...</td>\n",
       "      <td>...</td>\n",
       "    </tr>\n",
       "    <tr>\n",
       "      <th rowspan=\"5\" valign=\"top\">20190518_mouse7_region1</th>\n",
       "      <th rowspan=\"5\" valign=\"top\">sst_100frames_100Hz_200ms_3.56Hz_08MPA_50DC_center-657</th>\n",
       "      <th>11</th>\n",
       "      <td>314.402</td>\n",
       "      <td>314.456</td>\n",
       "      <td>0.054</td>\n",
       "    </tr>\n",
       "    <tr>\n",
       "      <th>12</th>\n",
       "      <td>342.697</td>\n",
       "      <td>342.750</td>\n",
       "      <td>0.053</td>\n",
       "    </tr>\n",
       "    <tr>\n",
       "      <th>13</th>\n",
       "      <td>371.0</td>\n",
       "      <td>371.053</td>\n",
       "      <td>0.053</td>\n",
       "    </tr>\n",
       "    <tr>\n",
       "      <th>14</th>\n",
       "      <td>399.297</td>\n",
       "      <td>399.352</td>\n",
       "      <td>0.055</td>\n",
       "    </tr>\n",
       "    <tr>\n",
       "      <th>15</th>\n",
       "      <td>427.601</td>\n",
       "      <td>427.654</td>\n",
       "      <td>0.053</td>\n",
       "    </tr>\n",
       "  </tbody>\n",
       "</table>\n",
       "<p>880 rows × 3 columns</p>\n",
       "</div>"
      ],
      "text/plain": [
       "                                                                                  trigger  \\\n",
       "dataset                 acquisition                                        trial            \n",
       "20190601_mouse2_region1 sst_100frames_100Hz_200ms_3.56Hz_08MPA_50DC_rig... 0        2.936   \n",
       "                                                                           1        31.24   \n",
       "                                                                           2       59.537   \n",
       "                                                                           3       87.846   \n",
       "                                                                           4      116.147   \n",
       "...                                                                                   ...   \n",
       "20190518_mouse7_region1 sst_100frames_100Hz_200ms_3.56Hz_08MPA_50DC_cen... 11     314.402   \n",
       "                                                                           12     342.697   \n",
       "                                                                           13       371.0   \n",
       "                                                                           14     399.297   \n",
       "                                                                           15     427.601   \n",
       "\n",
       "                                                                                    frame  \\\n",
       "dataset                 acquisition                                        trial            \n",
       "20190601_mouse2_region1 sst_100frames_100Hz_200ms_3.56Hz_08MPA_50DC_rig... 0        2.991   \n",
       "                                                                           1       31.294   \n",
       "                                                                           2       59.590   \n",
       "                                                                           3       87.900   \n",
       "                                                                           4      116.201   \n",
       "...                                                                                   ...   \n",
       "20190518_mouse7_region1 sst_100frames_100Hz_200ms_3.56Hz_08MPA_50DC_cen... 11     314.456   \n",
       "                                                                           12     342.750   \n",
       "                                                                           13     371.053   \n",
       "                                                                           14     399.352   \n",
       "                                                                           15     427.654   \n",
       "\n",
       "                                                                                  delay  \n",
       "dataset                 acquisition                                        trial         \n",
       "20190601_mouse2_region1 sst_100frames_100Hz_200ms_3.56Hz_08MPA_50DC_rig... 0      0.055  \n",
       "                                                                           1      0.054  \n",
       "                                                                           2      0.053  \n",
       "                                                                           3      0.054  \n",
       "                                                                           4      0.054  \n",
       "...                                                                                 ...  \n",
       "20190518_mouse7_region1 sst_100frames_100Hz_200ms_3.56Hz_08MPA_50DC_cen... 11     0.054  \n",
       "                                                                           12     0.053  \n",
       "                                                                           13     0.053  \n",
       "                                                                           14     0.055  \n",
       "                                                                           15     0.053  \n",
       "\n",
       "[880 rows x 3 columns]"
      ]
     },
     "execution_count": 60,
     "metadata": {},
     "output_type": "execute_result"
    }
   ],
   "source": [
    "# List datasets\n",
    "mouselinedir = os.path.join(dataroot, analysis, mouseline)\n",
    "datasets = [k for k in os.listdir(mouselinedir) if k != '.DS_Store']\n",
    "\n",
    "# Extarct trigger data\n",
    "mouseline_data = {}\n",
    "for dataset in datasets:\n",
    "    logger.info(f'extracting trigger delays from \"{dataset}\" XML acquisition files')\n",
    "    acqdir = os.path.join(mouselinedir, dataset)\n",
    "    acqfolders = get_data_folders(acqdir, recursive=False, exclude_patterns=['mouse', 'incomplete', 'test'])\n",
    "    acqdata = {}\n",
    "    for f in tqdm(acqfolders):\n",
    "        xml = os.path.join(f, get_bruker_XML(f))\n",
    "        acqdata[os.path.basename(f)] = get_trigger_delay_per_trial(xml)\n",
    "    acqdata = pd.concat(acqdata, names=['acquisition'])\n",
    "    mouseline_data[dataset] = acqdata\n",
    "mouseline_data = pd.concat(mouseline_data, names=[Label.DATASET])\n",
    "mouseline_data"
   ]
  },
  {
   "cell_type": "markdown",
   "id": "789e1033",
   "metadata": {},
   "source": [
    "### Show trigger delay stats per dataset"
   ]
  },
  {
   "cell_type": "code",
   "execution_count": null,
   "id": "608c1e08",
   "metadata": {},
   "outputs": [
    {
     "data": {
      "text/plain": [
       "Text(0.5, 1.0, 'sst offset analysis - delay per dataset')"
      ]
     },
     "execution_count": 61,
     "metadata": {},
     "output_type": "execute_result"
    },
    {
     "data": {
      "image/png": "[encoded data removed]",
      "text/plain": [
       "<Figure size 576x576 with 1 Axes>"
      ]
     },
     "metadata": {
      "needs_background": "light"
     },
     "output_type": "display_data"
    }
   ],
   "source": [
    "delays = (mouseline_data['delay'] * 1e3).rename('delay (ms)')\n",
    "trialavg_delays = delays.groupby([Label.DATASET, 'acquisition']).mean()\n",
    "fig, ax = plt.subplots(figsize=(8, 8))\n",
    "sns.despine(ax=ax)\n",
    "sns.stripplot(\n",
    "    ax=ax,å\n",
    "    data=trialavg_delays.reset_index(),\n",
    "    y=Label.DATASET,\n",
    "    x=delays.name,\n",
    "    color=Palette.LINE[mouseline]\n",
    ")\n",
    "ax.set_title(f'{mouseline} {analysis} analysis - delay per dataset')"
   ]
  },
  {
   "cell_type": "code",
   "execution_count": null,
   "id": "7cfbec03",
   "metadata": {},
   "outputs": [],
   "source": []
  }
 ],
 "metadata": {
  "kernelspec": {
   "display_name": "Python 3 (ipykernel)",
   "language": "python",
   "name": "python3"
  },
  "language_info": {
   "codemirror_mode": {
    "name": "ipython",
    "version": 3
   },
   "file_extension": ".py",
   "mimetype": "text/x-python",
   "name": "python",
   "nbconvert_exporter": "python",
   "pygments_lexer": "ipython3",
   "version": "3.8.13"
  }
 },
 "nbformat": 4,
 "nbformat_minor": 5
}
