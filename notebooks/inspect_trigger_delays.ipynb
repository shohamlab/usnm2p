{
 "cells": [
  {
   "cell_type": "markdown",
   "id": "954f0b4d",
   "metadata": {},
   "source": [
    "# Trigger delays analysis"
   ]
  },
  {
   "cell_type": "code",
   "execution_count": 8,
   "id": "b57b5109",
   "metadata": {},
   "outputs": [],
   "source": [
    "%load_ext autoreload\n",
    "%load_ext usnm2p.skip_kernel_extension\n",
    "%autoreload 2"
   ]
  },
  {
   "cell_type": "markdown",
   "id": "76995e90",
   "metadata": {},
   "source": [
    "### Imports"
   ]
  },
  {
   "cell_type": "code",
   "execution_count": 9,
   "id": "9f33b561",
   "metadata": {},
   "outputs": [],
   "source": [
    "import os \n",
    "from tqdm import tqdm\n",
    "\n",
    "from usnm2p.bruker_utils import *\n",
    "from usnm2p.fileops import *\n",
    "from usnm2p.logger import logger\n",
    "from usnm2p.constants import *"
   ]
  },
  {
   "cell_type": "markdown",
   "id": "0814e23b",
   "metadata": {},
   "source": [
    "### Inputs"
   ]
  },
  {
   "cell_type": "code",
   "execution_count": 22,
   "id": "2421e345",
   "metadata": {},
   "outputs": [],
   "source": [
    "dataroot = '/Users/tlemaire/Documents/data/usnm/raw_bruker'\n",
    "analysis = 'main'\n",
    "mouseline = 'line3'"
   ]
  },
  {
   "cell_type": "markdown",
   "id": "b6798452",
   "metadata": {},
   "source": [
    "### Define function to extract delay"
   ]
  },
  {
   "cell_type": "code",
   "execution_count": 10,
   "id": "fc8b797b",
   "metadata": {},
   "outputs": [],
   "source": [
    "def get_trigger_delay_per_trial(fpath):\n",
    "    _, _, seq_frames, seq_voutputs = parse_bruker_XML(fpath, simplify=False)\n",
    "    times = pd.concat({\n",
    "        Label.TRIG: seq_voutputs['absoluteTime'],\n",
    "        Label.FRAME: seq_frames.loc[seq_voutputs.index, 'absoluteTime'].groupby('sequence').first(),\n",
    "    }, axis=1)\n",
    "    times[Label.DELAY] = times[Label.FRAME] - times[Label.TRIG]\n",
    "    times.index = pd.Index(np.arange(len(times)), name= Label.TRIAL)\n",
    "    return times"
   ]
  },
  {
   "cell_type": "markdown",
   "id": "826cbe62",
   "metadata": {},
   "source": [
    "### Extract trigger delays for mouseline and analysis type"
   ]
  },
  {
   "cell_type": "code",
   "execution_count": null,
   "id": "7c099779",
   "metadata": {},
   "outputs": [
    {
     "name": "stdout",
     "output_type": "stream",
     "text": [
      "\u001b[37m 2025/07/11 13:57:09: extracting trigger delays from 20191112_mouse12_region1 XML acquisition files\u001b[0m\n",
      "\u001b[37m 2025/07/11 13:57:09: searching through /Users/tlemaire/Documents/data/usnm/raw_bruker/main/line3/20191112_mouse12_region1\u001b[0m\n",
      "\u001b[37m 2025/07/11 13:57:09: found 16 folders containing TIF files\u001b[0m\n",
      "\u001b[37m 2025/07/11 13:57:09: 15 folders remain after filtering\u001b[0m\n"
     ]
    },
    {
     "name": "stderr",
     "output_type": "stream",
     "text": [
      "100%|██████████| 15/15 [00:02<00:00,  6.48it/s]\n"
     ]
    },
    {
     "data": {
      "text/html": [
       "<div>\n",
       "<style scoped>\n",
       "    .dataframe tbody tr th:only-of-type {\n",
       "        vertical-align: middle;\n",
       "    }\n",
       "\n",
       "    .dataframe tbody tr th {\n",
       "        vertical-align: top;\n",
       "    }\n",
       "\n",
       "    .dataframe thead th {\n",
       "        text-align: right;\n",
       "    }\n",
       "</style>\n",
       "<table border=\"1\" class=\"dataframe\">\n",
       "  <thead>\n",
       "    <tr style=\"text-align: right;\">\n",
       "      <th></th>\n",
       "      <th></th>\n",
       "      <th></th>\n",
       "      <th>trigger</th>\n",
       "      <th>frame</th>\n",
       "      <th>delay</th>\n",
       "    </tr>\n",
       "    <tr>\n",
       "      <th>dataset</th>\n",
       "      <th>acquisition</th>\n",
       "      <th>trial</th>\n",
       "      <th></th>\n",
       "      <th></th>\n",
       "      <th></th>\n",
       "    </tr>\n",
       "  </thead>\n",
       "  <tbody>\n",
       "    <tr>\n",
       "      <th rowspan=\"11\" valign=\"top\">20191112_mouse12_region1</th>\n",
       "      <th rowspan=\"5\" valign=\"top\">line3_100frames_100Hz_200ms_3.56Hz_08MPA_50DC-855</th>\n",
       "      <th>0</th>\n",
       "      <td>2.984</td>\n",
       "      <td>3.051</td>\n",
       "      <td>0.067</td>\n",
       "    </tr>\n",
       "    <tr>\n",
       "      <th>1</th>\n",
       "      <td>31.722</td>\n",
       "      <td>31.801</td>\n",
       "      <td>0.079</td>\n",
       "    </tr>\n",
       "    <tr>\n",
       "      <th>2</th>\n",
       "      <td>60.51</td>\n",
       "      <td>60.611</td>\n",
       "      <td>0.101</td>\n",
       "    </tr>\n",
       "    <tr>\n",
       "      <th>3</th>\n",
       "      <td>89.308</td>\n",
       "      <td>89.410</td>\n",
       "      <td>0.102</td>\n",
       "    </tr>\n",
       "    <tr>\n",
       "      <th>4</th>\n",
       "      <td>118.104</td>\n",
       "      <td>118.200</td>\n",
       "      <td>0.096</td>\n",
       "    </tr>\n",
       "    <tr>\n",
       "      <th>...</th>\n",
       "      <th>...</th>\n",
       "      <td>...</td>\n",
       "      <td>...</td>\n",
       "      <td>...</td>\n",
       "    </tr>\n",
       "    <tr>\n",
       "      <th rowspan=\"5\" valign=\"top\">line3_100frames_100Hz_200ms_3.56Hz_02MPA_50DC-866</th>\n",
       "      <th>11</th>\n",
       "      <td>319.615</td>\n",
       "      <td>319.728</td>\n",
       "      <td>0.113</td>\n",
       "    </tr>\n",
       "    <tr>\n",
       "      <th>12</th>\n",
       "      <td>348.495</td>\n",
       "      <td>348.617</td>\n",
       "      <td>0.122</td>\n",
       "    </tr>\n",
       "    <tr>\n",
       "      <th>13</th>\n",
       "      <td>377.288</td>\n",
       "      <td>377.397</td>\n",
       "      <td>0.109</td>\n",
       "    </tr>\n",
       "    <tr>\n",
       "      <th>14</th>\n",
       "      <td>406.096</td>\n",
       "      <td>406.207</td>\n",
       "      <td>0.111</td>\n",
       "    </tr>\n",
       "    <tr>\n",
       "      <th>15</th>\n",
       "      <td>434.916</td>\n",
       "      <td>435.036</td>\n",
       "      <td>0.12</td>\n",
       "    </tr>\n",
       "  </tbody>\n",
       "</table>\n",
       "<p>240 rows × 3 columns</p>\n",
       "</div>"
      ],
      "text/plain": [
       "                                                                                  trigger  \\\n",
       "dataset                  acquisition                                       trial            \n",
       "20191112_mouse12_region1 line3_100frames_100Hz_200ms_3.56Hz_08MPA_50DC-855 0        2.984   \n",
       "                                                                           1       31.722   \n",
       "                                                                           2        60.51   \n",
       "                                                                           3       89.308   \n",
       "                                                                           4      118.104   \n",
       "...                                                                                   ...   \n",
       "                         line3_100frames_100Hz_200ms_3.56Hz_02MPA_50DC-866 11     319.615   \n",
       "                                                                           12     348.495   \n",
       "                                                                           13     377.288   \n",
       "                                                                           14     406.096   \n",
       "                                                                           15     434.916   \n",
       "\n",
       "                                                                                    frame  \\\n",
       "dataset                  acquisition                                       trial            \n",
       "20191112_mouse12_region1 line3_100frames_100Hz_200ms_3.56Hz_08MPA_50DC-855 0        3.051   \n",
       "                                                                           1       31.801   \n",
       "                                                                           2       60.611   \n",
       "                                                                           3       89.410   \n",
       "                                                                           4      118.200   \n",
       "...                                                                                   ...   \n",
       "                         line3_100frames_100Hz_200ms_3.56Hz_02MPA_50DC-866 11     319.728   \n",
       "                                                                           12     348.617   \n",
       "                                                                           13     377.397   \n",
       "                                                                           14     406.207   \n",
       "                                                                           15     435.036   \n",
       "\n",
       "                                                                                  delay  \n",
       "dataset                  acquisition                                       trial         \n",
       "20191112_mouse12_region1 line3_100frames_100Hz_200ms_3.56Hz_08MPA_50DC-855 0      0.067  \n",
       "                                                                           1      0.079  \n",
       "                                                                           2      0.101  \n",
       "                                                                           3      0.102  \n",
       "                                                                           4      0.096  \n",
       "...                                                                                 ...  \n",
       "                         line3_100frames_100Hz_200ms_3.56Hz_02MPA_50DC-866 11     0.113  \n",
       "                                                                           12     0.122  \n",
       "                                                                           13     0.109  \n",
       "                                                                           14     0.111  \n",
       "                                                                           15      0.12  \n",
       "\n",
       "[240 rows x 3 columns]"
      ]
     },
     "execution_count": 23,
     "metadata": {},
     "output_type": "execute_result"
    }
   ],
   "source": [
    "# List datasets\n",
    "mouselinedir = os.path.join(dataroot, analysis, mouseline)\n",
    "datasets = [k for k in os.listdir(mouselinedir) if k != '.DS_Store']\n",
    "\n",
    "# Extarct trigger data\n",
    "mouseline_data = {}\n",
    "for dataset in datasets:\n",
    "    logger.info(f'extracting trigger delays from {dataset} XML acquisition files')\n",
    "    acqdir = os.path.join(mouselinedir, dataset)\n",
    "    acqfolders = get_data_folders(acqdir, recursive=False, exclude_patterns=['mouse'])\n",
    "    acqdata = {}\n",
    "    for f in tqdm(acqfolders):\n",
    "        xml = os.path.join(f, get_bruker_XML(f))\n",
    "        acqdata[os.path.basename(f)] = get_trigger_delay_per_trial(xml)\n",
    "    acqdata = pd.concat(acqdata, names=['acquisition'])\n",
    "    mouseline_data[dataset] = acqdata\n",
    "mouseline_data = pd.concat(mouseline_data, names=[Label.DATASET])\n",
    "mouseline_data"
   ]
  },
  {
   "cell_type": "markdown",
   "id": "789e1033",
   "metadata": {},
   "source": [
    "### Show trigger delay stats per dataset"
   ]
  },
  {
   "cell_type": "code",
   "execution_count": 25,
   "id": "608c1e08",
   "metadata": {},
   "outputs": [
    {
     "data": {
      "text/html": [
       "<div>\n",
       "<style scoped>\n",
       "    .dataframe tbody tr th:only-of-type {\n",
       "        vertical-align: middle;\n",
       "    }\n",
       "\n",
       "    .dataframe tbody tr th {\n",
       "        vertical-align: top;\n",
       "    }\n",
       "\n",
       "    .dataframe thead th {\n",
       "        text-align: right;\n",
       "    }\n",
       "</style>\n",
       "<table border=\"1\" class=\"dataframe\">\n",
       "  <thead>\n",
       "    <tr style=\"text-align: right;\">\n",
       "      <th></th>\n",
       "      <th>mean</th>\n",
       "      <th>std</th>\n",
       "    </tr>\n",
       "    <tr>\n",
       "      <th>dataset</th>\n",
       "      <th></th>\n",
       "      <th></th>\n",
       "    </tr>\n",
       "  </thead>\n",
       "  <tbody>\n",
       "    <tr>\n",
       "      <th>20191112_mouse12_region1</th>\n",
       "      <td>0.106867</td>\n",
       "      <td>0.013932</td>\n",
       "    </tr>\n",
       "  </tbody>\n",
       "</table>\n",
       "</div>"
      ],
      "text/plain": [
       "                              mean       std\n",
       "dataset                                     \n",
       "20191112_mouse12_region1  0.106867  0.013932"
      ]
     },
     "execution_count": 25,
     "metadata": {},
     "output_type": "execute_result"
    }
   ],
   "source": [
    "mouseline_data['delay'].groupby(Label.DATASET).agg(['mean', 'std'])"
   ]
  }
 ],
 "metadata": {
  "kernelspec": {
   "display_name": "usnm2p",
   "language": "python",
   "name": "python3"
  },
  "language_info": {
   "codemirror_mode": {
    "name": "ipython",
    "version": 3
   },
   "file_extension": ".py",
   "mimetype": "text/x-python",
   "name": "python",
   "nbconvert_exporter": "python",
   "pygments_lexer": "ipython3",
   "version": "3.8.13"
  }
 },
 "nbformat": 4,
 "nbformat_minor": 5
}
