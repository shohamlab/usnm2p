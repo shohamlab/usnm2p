{
 "cells": [
  {
   "cell_type": "markdown",
   "id": "43de02d6",
   "metadata": {},
   "source": [
    "# Heat removal analysis"
   ]
  },
  {
   "cell_type": "markdown",
   "id": "8ee7a69d",
   "metadata": {},
   "source": [
    "### Imports"
   ]
  },
  {
   "cell_type": "code",
   "execution_count": 2,
   "id": "9e0ddfc9",
   "metadata": {},
   "outputs": [],
   "source": [
    "import numpy as np"
   ]
  },
  {
   "cell_type": "markdown",
   "id": "9f564e18",
   "metadata": {},
   "source": [
    "### Parameters"
   ]
  },
  {
   "cell_type": "code",
   "execution_count": 28,
   "id": "247a0aa0",
   "metadata": {},
   "outputs": [],
   "source": [
    "# Thermal conductivity properties\n",
    "k_gel = 0.5  # gel thermal conductivity (W.m-1.K-1)\n",
    "k_glass = 1.1  # glass thermal conductivity (W.m-1.K-1)\n",
    "\n",
    "# Brain perfusion + conduction properties\n",
    "heff_brain = 5e3  # effective brain convective coefficient representing blood perfusion + heat exchange (W.m-2.K-1)\n",
    "\n",
    "# Geometrical parameters\n",
    "d_glass = 3e-3  # coverglass diameter (m)\n",
    "d_gel = 3e-3 #5e-3  # coupling gel column diameter (m)\n",
    "L_glass = 0.15e-3 # 0.3e-3  # coverglass double-layer thickness (m) \n",
    "L_gel = 1e-3 # 8e-3 # coupling gel column length (m)\n",
    "\n",
    "# Initial temperatures\n",
    "Tcortex = 37  # cortex baseline temperature (celsius)\n",
    "Tambient = 22  # room temperature (celsius)    \n",
    "deltaT0 = Tcortex - Tambient  # temperature difference (celsius, or K)"
   ]
  },
  {
   "cell_type": "markdown",
   "id": "a2e884ef",
   "metadata": {},
   "source": [
    "### Compute thermal resistances"
   ]
  },
  {
   "cell_type": "code",
   "execution_count": 31,
   "id": "9098a23b",
   "metadata": {},
   "outputs": [
    {
     "name": "stdout",
     "output_type": "stream",
     "text": [
      "19.29150825356307 282.9421210522584\n"
     ]
    }
   ],
   "source": [
    "# Contact area\n",
    "A_glass = np.pi * d_glass**2 / 4\n",
    "A_gel = np.pi * d_gel**2 / 4\n",
    "\n",
    "# Thermal reistances per layer\n",
    "R_glass = L_glass / (k_glass * A_glass)  # glass thermal resistance (K/W)\n",
    "R_gel = L_gel / (k_gel * A_gel)  # gel thermal resistance (K/W)\n",
    "print(R_glass, R_gel)\n",
    "Rtot = R_glass + R_gel  # total thermal resistance (K/W)"
   ]
  },
  {
   "cell_type": "markdown",
   "id": "6a842a22",
   "metadata": {},
   "source": [
    "### Compute temperature decrease in tissue"
   ]
  },
  {
   "cell_type": "code",
   "execution_count": 30,
   "id": "d1ff883a",
   "metadata": {},
   "outputs": [
    {
     "data": {
      "text/plain": [
       "1.4042553191489362"
      ]
     },
     "execution_count": 30,
     "metadata": {},
     "output_type": "execute_result"
    }
   ],
   "source": [
    "# Compute heat flow\n",
    "Q = deltaT0 / Rtot  # W\n",
    "\n",
    "# Compute induced temperature decrease\n",
    "deltaT_induced = Q / (heff_brain * A_glass)  # K\n",
    "deltaT_induced"
   ]
  },
  {
   "cell_type": "code",
   "execution_count": null,
   "id": "7258f111",
   "metadata": {},
   "outputs": [],
   "source": []
  }
 ],
 "metadata": {
  "kernelspec": {
   "display_name": "usnm2p",
   "language": "python",
   "name": "python3"
  },
  "language_info": {
   "codemirror_mode": {
    "name": "ipython",
    "version": 3
   },
   "file_extension": ".py",
   "mimetype": "text/x-python",
   "name": "python",
   "nbconvert_exporter": "python",
   "pygments_lexer": "ipython3",
   "version": "3.8.13"
  }
 },
 "nbformat": 4,
 "nbformat_minor": 5
}
