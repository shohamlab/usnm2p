{
 "cells": [
  {
   "cell_type": "code",
   "execution_count": 1,
   "metadata": {},
   "outputs": [],
   "source": [
    "%load_ext autoreload\n",
    "%load_ext skip_kernel_extension\n",
    "%autoreload 2"
   ]
  },
  {
   "cell_type": "markdown",
   "metadata": {},
   "source": [
    "### Imports"
   ]
  },
  {
   "cell_type": "code",
   "execution_count": 2,
   "metadata": {},
   "outputs": [],
   "source": [
    "# External packages\n",
    "import logging\n",
    "import os\n",
    "import numpy as np\n",
    "import pandas as pd\n",
    "import matplotlib.pyplot as plt\n",
    "import seaborn as sns\n",
    "from scipy.stats import skew\n",
    "import glob\n",
    "from tqdm import tqdm\n",
    "\n",
    "# Internal modules\n",
    "from logger import logger\n",
    "from constants import *\n",
    "from parsers import get_info_table\n",
    "from fileops import get_data_root, get_output_equivalent, get_data_folders, loadtif\n",
    "from postpro import process_runids\n",
    "from plotters import harmonize_axes_limits\n",
    "from substitutors import StackSubstitutor"
   ]
  },
  {
   "cell_type": "markdown",
   "metadata": {},
   "source": [
    "### Input parameters"
   ]
  },
  {
   "cell_type": "code",
   "execution_count": 141,
   "metadata": {
    "tags": [
     "parameters"
    ]
   },
   "outputs": [
    {
     "name": "stdout",
     "output_type": "stream",
     "text": [
      "\u001b[37m 2023/10/27 17:03:42: input data directory: \"/gpfs/scratch/lemait01/data/usnm/substituted/submap_0<-1_9->10every100/main\"\u001b[0m\n"
     ]
    }
   ],
   "source": [
    "# Get input data directory\n",
    "dataroot = get_data_root()  # Root directory for raw data\n",
    "submap = [\n",
    "    (1, 0, None),\n",
    "    (FrameIndex.STIM - 1, FrameIndex.STIM, NFRAMES_PER_TRIAL),\n",
    "]\n",
    "ss = StackSubstitutor(submap)\n",
    "datadir = os.path.join(\n",
    "    get_output_equivalent(dataroot, DataRoot.RAW, DataRoot.SUBSTITUTED),\n",
    "    ss.code,\n",
    "    'main'\n",
    ")\n",
    "logger.info(f'input data directory: \"{datadir}\"')\n",
    "\n",
    "# Define input parameters\n",
    "projfunc = 'median'  # Projection function to get reference image from 3D stack\n",
    "sortkey = Label.RUNID  # Sort key for different files in the same dataset folder\n",
    "lines = [  # Lines to analyze\n",
    "    'pv', \n",
    "    'sst', \n",
    "    'line3',\n",
    "]"
   ]
  },
  {
   "cell_type": "markdown",
   "metadata": {},
   "source": [
    "### Derived parameters"
   ]
  },
  {
   "cell_type": "code",
   "execution_count": null,
   "metadata": {},
   "outputs": [],
   "source": [
    "projfunc = {'mean': np.mean, 'median': np.median}[projfunc]"
   ]
  },
  {
   "cell_type": "markdown",
   "metadata": {},
   "source": [
    "### Extract reference frame pixel distributions across lines, datasets, and runs "
   ]
  },
  {
   "cell_type": "code",
   "execution_count": 151,
   "metadata": {},
   "outputs": [
    {
     "name": "stdout",
     "output_type": "stream",
     "text": [
      "\u001b[37m 2023/10/27 17:18:36: Searching through /gpfs/scratch/lemait01/data/usnm/substituted/submap_0<-1_9->10every100/main/pv\u001b[0m\n",
      "\u001b[37m 2023/10/27 17:18:36: found 10 folders containing TIF files\u001b[0m\n",
      "\u001b[37m 2023/10/27 17:18:36: extracting stack mean projection images from 20190702_mouse1_region1 folder\u001b[0m\n"
     ]
    },
    {
     "name": "stderr",
     "output_type": "stream",
     "text": [
      "100%|██████████| 15/15 [00:03<00:00,  3.98it/s]"
     ]
    },
    {
     "name": "stdout",
     "output_type": "stream",
     "text": [
      "\u001b[37m 2023/10/27 17:18:40: saving reference distributions to 20190702_mouse1_region1 folder\u001b[0m\n"
     ]
    },
    {
     "name": "stderr",
     "output_type": "stream",
     "text": [
      "\n"
     ]
    },
    {
     "name": "stdout",
     "output_type": "stream",
     "text": [
      "\u001b[37m 2023/10/27 17:18:44: extracting stack mean projection images from 20190703_mouse4_region1 folder\u001b[0m\n"
     ]
    },
    {
     "name": "stderr",
     "output_type": "stream",
     "text": [
      "100%|██████████| 16/16 [00:04<00:00,  3.85it/s]"
     ]
    },
    {
     "name": "stdout",
     "output_type": "stream",
     "text": [
      "\u001b[37m 2023/10/27 17:18:49: saving reference distributions to 20190703_mouse4_region1 folder\u001b[0m\n"
     ]
    },
    {
     "name": "stderr",
     "output_type": "stream",
     "text": [
      "\n"
     ]
    },
    {
     "name": "stdout",
     "output_type": "stream",
     "text": [
      "\u001b[37m 2023/10/27 17:18:54: extracting stack mean projection images from 20190629_mouse2_region1 folder\u001b[0m\n"
     ]
    },
    {
     "name": "stderr",
     "output_type": "stream",
     "text": [
      "100%|██████████| 15/15 [00:03<00:00,  3.84it/s]"
     ]
    },
    {
     "name": "stdout",
     "output_type": "stream",
     "text": [
      "\u001b[37m 2023/10/27 17:18:58: saving reference distributions to 20190629_mouse2_region1 folder\u001b[0m\n"
     ]
    },
    {
     "name": "stderr",
     "output_type": "stream",
     "text": [
      "\n"
     ]
    },
    {
     "name": "stdout",
     "output_type": "stream",
     "text": [
      "\u001b[37m 2023/10/27 17:19:02: extracting stack mean projection images from 20190702_mouse5_region1 folder\u001b[0m\n"
     ]
    },
    {
     "name": "stderr",
     "output_type": "stream",
     "text": [
      "100%|██████████| 15/15 [00:03<00:00,  3.89it/s]"
     ]
    },
    {
     "name": "stdout",
     "output_type": "stream",
     "text": [
      "\u001b[37m 2023/10/27 17:19:06: saving reference distributions to 20190702_mouse5_region1 folder\u001b[0m\n"
     ]
    },
    {
     "name": "stderr",
     "output_type": "stream",
     "text": [
      "\n"
     ]
    },
    {
     "name": "stdout",
     "output_type": "stream",
     "text": [
      "\u001b[37m 2023/10/27 17:19:10: extracting stack mean projection images from 20190630_mouse3_region1 folder\u001b[0m\n"
     ]
    },
    {
     "name": "stderr",
     "output_type": "stream",
     "text": [
      "100%|██████████| 15/15 [00:03<00:00,  3.89it/s]"
     ]
    },
    {
     "name": "stdout",
     "output_type": "stream",
     "text": [
      "\u001b[37m 2023/10/27 17:19:14: saving reference distributions to 20190630_mouse3_region1 folder\u001b[0m\n"
     ]
    },
    {
     "name": "stderr",
     "output_type": "stream",
     "text": [
      "\n"
     ]
    },
    {
     "name": "stdout",
     "output_type": "stream",
     "text": [
      "\u001b[37m 2023/10/27 17:19:18: extracting stack mean projection images from 20190821_mouse3_region1 folder\u001b[0m\n"
     ]
    },
    {
     "name": "stderr",
     "output_type": "stream",
     "text": [
      "100%|██████████| 15/15 [00:03<00:00,  3.81it/s]"
     ]
    },
    {
     "name": "stdout",
     "output_type": "stream",
     "text": [
      "\u001b[37m 2023/10/27 17:19:22: saving reference distributions to 20190821_mouse3_region1 folder\u001b[0m\n"
     ]
    },
    {
     "name": "stderr",
     "output_type": "stream",
     "text": [
      "\n"
     ]
    },
    {
     "name": "stdout",
     "output_type": "stream",
     "text": [
      "\u001b[37m 2023/10/27 17:19:27: extracting stack mean projection images from 20190821_mouse6_region1 folder\u001b[0m\n"
     ]
    },
    {
     "name": "stderr",
     "output_type": "stream",
     "text": [
      "100%|██████████| 15/15 [00:03<00:00,  3.87it/s]"
     ]
    },
    {
     "name": "stdout",
     "output_type": "stream",
     "text": [
      "\u001b[37m 2023/10/27 17:19:31: saving reference distributions to 20190821_mouse6_region1 folder\u001b[0m\n"
     ]
    },
    {
     "name": "stderr",
     "output_type": "stream",
     "text": [
      "\n"
     ]
    },
    {
     "name": "stdout",
     "output_type": "stream",
     "text": [
      "\u001b[37m 2023/10/27 17:19:35: extracting stack mean projection images from 20190606_mouse2_region1 folder\u001b[0m\n"
     ]
    },
    {
     "name": "stderr",
     "output_type": "stream",
     "text": [
      "100%|██████████| 10/10 [00:02<00:00,  4.01it/s]"
     ]
    },
    {
     "name": "stdout",
     "output_type": "stream",
     "text": [
      "\u001b[37m 2023/10/27 17:19:38: saving reference distributions to 20190606_mouse2_region1 folder\u001b[0m\n"
     ]
    },
    {
     "name": "stderr",
     "output_type": "stream",
     "text": [
      "\n"
     ]
    },
    {
     "name": "stdout",
     "output_type": "stream",
     "text": [
      "\u001b[37m 2023/10/27 17:19:40: extracting stack mean projection images from 20190821_mouse7_region1 folder\u001b[0m\n"
     ]
    },
    {
     "name": "stderr",
     "output_type": "stream",
     "text": [
      "100%|██████████| 15/15 [00:04<00:00,  3.50it/s]"
     ]
    },
    {
     "name": "stdout",
     "output_type": "stream",
     "text": [
      "\u001b[37m 2023/10/27 17:19:45: saving reference distributions to 20190821_mouse7_region1 folder\u001b[0m\n"
     ]
    },
    {
     "name": "stderr",
     "output_type": "stream",
     "text": [
      "\n"
     ]
    },
    {
     "name": "stdout",
     "output_type": "stream",
     "text": [
      "\u001b[37m 2023/10/27 17:19:49: extracting stack mean projection images from 20190606_mouse2_region2 folder\u001b[0m\n"
     ]
    },
    {
     "name": "stderr",
     "output_type": "stream",
     "text": [
      "100%|██████████| 10/10 [00:02<00:00,  3.95it/s]"
     ]
    },
    {
     "name": "stdout",
     "output_type": "stream",
     "text": [
      "\u001b[37m 2023/10/27 17:19:51: saving reference distributions to 20190606_mouse2_region2 folder\u001b[0m\n"
     ]
    },
    {
     "name": "stderr",
     "output_type": "stream",
     "text": [
      "\n"
     ]
    },
    {
     "name": "stdout",
     "output_type": "stream",
     "text": [
      "\u001b[37m 2023/10/27 17:19:56: Searching through /gpfs/scratch/lemait01/data/usnm/substituted/submap_0<-1_9->10every100/main/sst\u001b[0m\n",
      "\u001b[37m 2023/10/27 17:19:56: found 17 folders containing TIF files\u001b[0m\n",
      "\u001b[37m 2023/10/27 17:19:56: extracting stack mean projection images from 20190513_mouse2_region1 folder\u001b[0m\n"
     ]
    },
    {
     "name": "stderr",
     "output_type": "stream",
     "text": [
      "100%|██████████| 10/10 [00:02<00:00,  3.85it/s]"
     ]
    },
    {
     "name": "stdout",
     "output_type": "stream",
     "text": [
      "\u001b[37m 2023/10/27 17:19:59: saving reference distributions to 20190513_mouse2_region1 folder\u001b[0m\n"
     ]
    },
    {
     "name": "stderr",
     "output_type": "stream",
     "text": [
      "\n"
     ]
    },
    {
     "name": "stdout",
     "output_type": "stream",
     "text": [
      "\u001b[37m 2023/10/27 17:20:02: extracting stack mean projection images from 20190808_mouse6_region1 folder\u001b[0m\n"
     ]
    },
    {
     "name": "stderr",
     "output_type": "stream",
     "text": [
      "100%|██████████| 15/15 [00:03<00:00,  3.91it/s]"
     ]
    },
    {
     "name": "stdout",
     "output_type": "stream",
     "text": [
      "\u001b[37m 2023/10/27 17:20:05: saving reference distributions to 20190808_mouse6_region1 folder\u001b[0m\n"
     ]
    },
    {
     "name": "stderr",
     "output_type": "stream",
     "text": [
      "\n"
     ]
    },
    {
     "name": "stdout",
     "output_type": "stream",
     "text": [
      "\u001b[37m 2023/10/27 17:20:10: extracting stack mean projection images from 20190514_mouse1_region1 folder\u001b[0m\n"
     ]
    },
    {
     "name": "stderr",
     "output_type": "stream",
     "text": [
      "100%|██████████| 10/10 [00:03<00:00,  3.21it/s]"
     ]
    },
    {
     "name": "stdout",
     "output_type": "stream",
     "text": [
      "\u001b[37m 2023/10/27 17:20:13: saving reference distributions to 20190514_mouse1_region1 folder\u001b[0m\n"
     ]
    },
    {
     "name": "stderr",
     "output_type": "stream",
     "text": [
      "\n"
     ]
    },
    {
     "name": "stdout",
     "output_type": "stream",
     "text": [
      "\u001b[37m 2023/10/27 17:20:16: extracting stack mean projection images from 20190511_mouse7_region2 folder\u001b[0m\n"
     ]
    },
    {
     "name": "stderr",
     "output_type": "stream",
     "text": [
      "100%|██████████| 10/10 [00:02<00:00,  3.85it/s]"
     ]
    },
    {
     "name": "stdout",
     "output_type": "stream",
     "text": [
      "\u001b[37m 2023/10/27 17:20:19: saving reference distributions to 20190511_mouse7_region2 folder\u001b[0m\n"
     ]
    },
    {
     "name": "stderr",
     "output_type": "stream",
     "text": [
      "\n"
     ]
    },
    {
     "name": "stdout",
     "output_type": "stream",
     "text": [
      "\u001b[37m 2023/10/27 17:20:22: extracting stack mean projection images from 20190514_mouse1_region2 folder\u001b[0m\n"
     ]
    },
    {
     "name": "stderr",
     "output_type": "stream",
     "text": [
      "100%|██████████| 10/10 [00:02<00:00,  3.96it/s]"
     ]
    },
    {
     "name": "stdout",
     "output_type": "stream",
     "text": [
      "\u001b[37m 2023/10/27 17:20:24: saving reference distributions to 20190514_mouse1_region2 folder\u001b[0m\n"
     ]
    },
    {
     "name": "stderr",
     "output_type": "stream",
     "text": [
      "\n"
     ]
    },
    {
     "name": "stdout",
     "output_type": "stream",
     "text": [
      "\u001b[37m 2023/10/27 17:20:27: extracting stack mean projection images from 20190513_mouse2_region2 folder\u001b[0m\n"
     ]
    },
    {
     "name": "stderr",
     "output_type": "stream",
     "text": [
      "100%|██████████| 10/10 [00:02<00:00,  3.83it/s]"
     ]
    },
    {
     "name": "stdout",
     "output_type": "stream",
     "text": [
      "\u001b[37m 2023/10/27 17:20:30: saving reference distributions to 20190513_mouse2_region2 folder\u001b[0m\n"
     ]
    },
    {
     "name": "stderr",
     "output_type": "stream",
     "text": [
      "\n"
     ]
    },
    {
     "name": "stdout",
     "output_type": "stream",
     "text": [
      "\u001b[37m 2023/10/27 17:20:33: extracting stack mean projection images from 20190701_mouse1_region1 folder\u001b[0m\n"
     ]
    },
    {
     "name": "stderr",
     "output_type": "stream",
     "text": [
      "100%|██████████| 15/15 [00:03<00:00,  3.94it/s]"
     ]
    },
    {
     "name": "stdout",
     "output_type": "stream",
     "text": [
      "\u001b[37m 2023/10/27 17:20:37: saving reference distributions to 20190701_mouse1_region1 folder\u001b[0m\n"
     ]
    },
    {
     "name": "stderr",
     "output_type": "stream",
     "text": [
      "\n"
     ]
    },
    {
     "name": "stdout",
     "output_type": "stream",
     "text": [
      "\u001b[37m 2023/10/27 17:20:41: extracting stack mean projection images from 20190706_mouse7_region1 folder\u001b[0m\n"
     ]
    },
    {
     "name": "stderr",
     "output_type": "stream",
     "text": [
      "100%|██████████| 14/14 [00:03<00:00,  3.68it/s]"
     ]
    },
    {
     "name": "stdout",
     "output_type": "stream",
     "text": [
      "\u001b[37m 2023/10/27 17:20:45: saving reference distributions to 20190706_mouse7_region1 folder\u001b[0m\n"
     ]
    },
    {
     "name": "stderr",
     "output_type": "stream",
     "text": [
      "\n"
     ]
    },
    {
     "name": "stdout",
     "output_type": "stream",
     "text": [
      "\u001b[37m 2023/10/27 17:20:49: extracting stack mean projection images from 20190510_mouse6_region1 folder\u001b[0m\n"
     ]
    },
    {
     "name": "stderr",
     "output_type": "stream",
     "text": [
      "100%|██████████| 10/10 [00:02<00:00,  3.79it/s]"
     ]
    },
    {
     "name": "stdout",
     "output_type": "stream",
     "text": [
      "\u001b[37m 2023/10/27 17:20:52: saving reference distributions to 20190510_mouse6_region1 folder\u001b[0m\n"
     ]
    },
    {
     "name": "stderr",
     "output_type": "stream",
     "text": [
      "\n"
     ]
    },
    {
     "name": "stdout",
     "output_type": "stream",
     "text": [
      "\u001b[37m 2023/10/27 17:20:55: extracting stack mean projection images from 20190516_mouse8_region1 folder\u001b[0m\n"
     ]
    },
    {
     "name": "stderr",
     "output_type": "stream",
     "text": [
      "100%|██████████| 10/10 [00:02<00:00,  3.90it/s]"
     ]
    },
    {
     "name": "stdout",
     "output_type": "stream",
     "text": [
      "\u001b[37m 2023/10/27 17:20:57: saving reference distributions to 20190516_mouse8_region1 folder\u001b[0m\n"
     ]
    },
    {
     "name": "stderr",
     "output_type": "stream",
     "text": [
      "\n"
     ]
    },
    {
     "name": "stdout",
     "output_type": "stream",
     "text": [
      "\u001b[37m 2023/10/27 17:21:00: extracting stack mean projection images from 20190510_mouse6_region2 folder\u001b[0m\n"
     ]
    },
    {
     "name": "stderr",
     "output_type": "stream",
     "text": [
      "100%|██████████| 10/10 [00:02<00:00,  3.91it/s]"
     ]
    },
    {
     "name": "stdout",
     "output_type": "stream",
     "text": [
      "\u001b[37m 2023/10/27 17:21:03: saving reference distributions to 20190510_mouse6_region2 folder\u001b[0m\n"
     ]
    },
    {
     "name": "stderr",
     "output_type": "stream",
     "text": [
      "\n"
     ]
    },
    {
     "name": "stdout",
     "output_type": "stream",
     "text": [
      "\u001b[37m 2023/10/27 17:21:06: extracting stack mean projection images from 20190628_mouse2_region1 folder\u001b[0m\n"
     ]
    },
    {
     "name": "stderr",
     "output_type": "stream",
     "text": [
      "100%|██████████| 14/14 [00:03<00:00,  3.94it/s]"
     ]
    },
    {
     "name": "stdout",
     "output_type": "stream",
     "text": [
      "\u001b[37m 2023/10/27 17:21:09: saving reference distributions to 20190628_mouse2_region1 folder\u001b[0m\n"
     ]
    },
    {
     "name": "stderr",
     "output_type": "stream",
     "text": [
      "\n"
     ]
    },
    {
     "name": "stdout",
     "output_type": "stream",
     "text": [
      "\u001b[37m 2023/10/27 17:21:13: extracting stack mean projection images from 20190629_mouse3_region1 folder\u001b[0m\n"
     ]
    },
    {
     "name": "stderr",
     "output_type": "stream",
     "text": [
      "100%|██████████| 14/14 [00:03<00:00,  3.87it/s]"
     ]
    },
    {
     "name": "stdout",
     "output_type": "stream",
     "text": [
      "\u001b[37m 2023/10/27 17:21:17: saving reference distributions to 20190629_mouse3_region1 folder\u001b[0m\n"
     ]
    },
    {
     "name": "stderr",
     "output_type": "stream",
     "text": [
      "\n"
     ]
    },
    {
     "name": "stdout",
     "output_type": "stream",
     "text": [
      "\u001b[37m 2023/10/27 17:21:21: extracting stack mean projection images from 20190511_mouse7_region1 folder\u001b[0m\n"
     ]
    },
    {
     "name": "stderr",
     "output_type": "stream",
     "text": [
      "100%|██████████| 10/10 [00:02<00:00,  3.84it/s]"
     ]
    },
    {
     "name": "stdout",
     "output_type": "stream",
     "text": [
      "\u001b[37m 2023/10/27 17:21:24: saving reference distributions to 20190511_mouse7_region1 folder\u001b[0m\n"
     ]
    },
    {
     "name": "stderr",
     "output_type": "stream",
     "text": [
      "\n"
     ]
    },
    {
     "name": "stdout",
     "output_type": "stream",
     "text": [
      "\u001b[37m 2023/10/27 17:21:27: extracting stack mean projection images from 20190808_mouse8_region1 folder\u001b[0m\n"
     ]
    },
    {
     "name": "stderr",
     "output_type": "stream",
     "text": [
      "100%|██████████| 15/15 [00:03<00:00,  3.85it/s]"
     ]
    },
    {
     "name": "stdout",
     "output_type": "stream",
     "text": [
      "\u001b[37m 2023/10/27 17:21:31: saving reference distributions to 20190808_mouse8_region1 folder\u001b[0m\n"
     ]
    },
    {
     "name": "stderr",
     "output_type": "stream",
     "text": [
      "\n"
     ]
    },
    {
     "name": "stdout",
     "output_type": "stream",
     "text": [
      "\u001b[37m 2023/10/27 17:21:35: extracting stack mean projection images from 20190808_mouse7_region2 folder\u001b[0m\n"
     ]
    },
    {
     "name": "stderr",
     "output_type": "stream",
     "text": [
      "100%|██████████| 15/15 [00:03<00:00,  3.92it/s]"
     ]
    },
    {
     "name": "stdout",
     "output_type": "stream",
     "text": [
      "\u001b[37m 2023/10/27 17:21:39: saving reference distributions to 20190808_mouse7_region2 folder\u001b[0m\n"
     ]
    },
    {
     "name": "stderr",
     "output_type": "stream",
     "text": [
      "\n"
     ]
    },
    {
     "name": "stdout",
     "output_type": "stream",
     "text": [
      "\u001b[37m 2023/10/27 17:21:44: extracting stack mean projection images from 20190516_mouse8_region2 folder\u001b[0m\n"
     ]
    },
    {
     "name": "stderr",
     "output_type": "stream",
     "text": [
      "100%|██████████| 10/10 [00:02<00:00,  3.86it/s]"
     ]
    },
    {
     "name": "stdout",
     "output_type": "stream",
     "text": [
      "\u001b[37m 2023/10/27 17:21:46: saving reference distributions to 20190516_mouse8_region2 folder\u001b[0m\n"
     ]
    },
    {
     "name": "stderr",
     "output_type": "stream",
     "text": [
      "\n"
     ]
    },
    {
     "name": "stdout",
     "output_type": "stream",
     "text": [
      "\u001b[37m 2023/10/27 17:21:51: Searching through /gpfs/scratch/lemait01/data/usnm/substituted/submap_0<-1_9->10every100/main/line3\u001b[0m\n",
      "\u001b[37m 2023/10/27 17:21:51: found 27 folders containing TIF files\u001b[0m\n",
      "\u001b[37m 2023/10/27 17:21:51: extracting stack mean projection images from 20190807_mouse6_region1 folder\u001b[0m\n"
     ]
    },
    {
     "name": "stderr",
     "output_type": "stream",
     "text": [
      "100%|██████████| 16/16 [00:04<00:00,  3.77it/s]"
     ]
    },
    {
     "name": "stdout",
     "output_type": "stream",
     "text": [
      "\u001b[37m 2023/10/27 17:21:56: saving reference distributions to 20190807_mouse6_region1 folder\u001b[0m\n"
     ]
    },
    {
     "name": "stderr",
     "output_type": "stream",
     "text": [
      "\n"
     ]
    },
    {
     "name": "stdout",
     "output_type": "stream",
     "text": [
      "\u001b[37m 2023/10/27 17:22:01: extracting stack mean projection images from 20200612_mouse13_region1 folder\u001b[0m\n"
     ]
    },
    {
     "name": "stderr",
     "output_type": "stream",
     "text": [
      "100%|██████████| 15/15 [00:03<00:00,  3.91it/s]"
     ]
    },
    {
     "name": "stdout",
     "output_type": "stream",
     "text": [
      "\u001b[37m 2023/10/27 17:22:05: saving reference distributions to 20200612_mouse13_region1 folder\u001b[0m\n"
     ]
    },
    {
     "name": "stderr",
     "output_type": "stream",
     "text": [
      "\n"
     ]
    },
    {
     "name": "stdout",
     "output_type": "stream",
     "text": [
      "\u001b[37m 2023/10/27 17:22:09: extracting stack mean projection images from 20191230_mouse13_region1 folder\u001b[0m\n"
     ]
    },
    {
     "name": "stderr",
     "output_type": "stream",
     "text": [
      "100%|██████████| 10/10 [00:02<00:00,  3.80it/s]"
     ]
    },
    {
     "name": "stdout",
     "output_type": "stream",
     "text": [
      "\u001b[37m 2023/10/27 17:22:12: saving reference distributions to 20191230_mouse13_region1 folder\u001b[0m\n"
     ]
    },
    {
     "name": "stderr",
     "output_type": "stream",
     "text": [
      "\n"
     ]
    },
    {
     "name": "stdout",
     "output_type": "stream",
     "text": [
      "\u001b[37m 2023/10/27 17:22:15: extracting stack mean projection images from 20190807_mouse5_region1 folder\u001b[0m\n"
     ]
    },
    {
     "name": "stderr",
     "output_type": "stream",
     "text": [
      "100%|██████████| 15/15 [00:03<00:00,  3.86it/s]"
     ]
    },
    {
     "name": "stdout",
     "output_type": "stream",
     "text": [
      "\u001b[37m 2023/10/27 17:22:19: saving reference distributions to 20190807_mouse5_region1 folder\u001b[0m\n"
     ]
    },
    {
     "name": "stderr",
     "output_type": "stream",
     "text": [
      "\n"
     ]
    },
    {
     "name": "stdout",
     "output_type": "stream",
     "text": [
      "\u001b[37m 2023/10/27 17:22:23: extracting stack mean projection images from 20191110_mouse6_region1_layer5 folder\u001b[0m\n"
     ]
    },
    {
     "name": "stderr",
     "output_type": "stream",
     "text": [
      "100%|██████████| 14/14 [00:03<00:00,  3.78it/s]"
     ]
    },
    {
     "name": "stdout",
     "output_type": "stream",
     "text": [
      "\u001b[37m 2023/10/27 17:22:27: saving reference distributions to 20191110_mouse6_region1_layer5 folder\u001b[0m\n"
     ]
    },
    {
     "name": "stderr",
     "output_type": "stream",
     "text": [
      "\n"
     ]
    },
    {
     "name": "stdout",
     "output_type": "stream",
     "text": [
      "\u001b[37m 2023/10/27 17:22:31: extracting stack mean projection images from 20191109_mouse7_region2 folder\u001b[0m\n"
     ]
    },
    {
     "name": "stderr",
     "output_type": "stream",
     "text": [
      "100%|██████████| 15/15 [00:03<00:00,  3.77it/s]"
     ]
    },
    {
     "name": "stdout",
     "output_type": "stream",
     "text": [
      "\u001b[37m 2023/10/27 17:22:35: saving reference distributions to 20191109_mouse7_region2 folder\u001b[0m\n"
     ]
    },
    {
     "name": "stderr",
     "output_type": "stream",
     "text": [
      "\n"
     ]
    },
    {
     "name": "stdout",
     "output_type": "stream",
     "text": [
      "\u001b[37m 2023/10/27 17:22:39: extracting stack mean projection images from 20191107_mouse1_region1 folder\u001b[0m\n"
     ]
    },
    {
     "name": "stderr",
     "output_type": "stream",
     "text": [
      "100%|██████████| 15/15 [00:03<00:00,  3.91it/s]"
     ]
    },
    {
     "name": "stdout",
     "output_type": "stream",
     "text": [
      "\u001b[37m 2023/10/27 17:22:43: saving reference distributions to 20191107_mouse1_region1 folder\u001b[0m\n"
     ]
    },
    {
     "name": "stderr",
     "output_type": "stream",
     "text": [
      "\n"
     ]
    },
    {
     "name": "stdout",
     "output_type": "stream",
     "text": [
      "\u001b[37m 2023/10/27 17:22:48: extracting stack mean projection images from 20191228_mouse13_region1 folder\u001b[0m\n"
     ]
    },
    {
     "name": "stderr",
     "output_type": "stream",
     "text": [
      "100%|██████████| 10/10 [00:02<00:00,  3.71it/s]"
     ]
    },
    {
     "name": "stdout",
     "output_type": "stream",
     "text": [
      "\u001b[37m 2023/10/27 17:22:51: saving reference distributions to 20191228_mouse13_region1 folder\u001b[0m\n"
     ]
    },
    {
     "name": "stderr",
     "output_type": "stream",
     "text": [
      "\n"
     ]
    },
    {
     "name": "stdout",
     "output_type": "stream",
     "text": [
      "\u001b[37m 2023/10/27 17:22:53: extracting stack mean projection images from 20190704_mouse2_region1 folder\u001b[0m\n"
     ]
    },
    {
     "name": "stderr",
     "output_type": "stream",
     "text": [
      "100%|██████████| 16/16 [00:04<00:00,  3.94it/s]"
     ]
    },
    {
     "name": "stdout",
     "output_type": "stream",
     "text": [
      "\u001b[37m 2023/10/27 17:22:57: saving reference distributions to 20190704_mouse2_region1 folder\u001b[0m\n"
     ]
    },
    {
     "name": "stderr",
     "output_type": "stream",
     "text": [
      "\n"
     ]
    },
    {
     "name": "stdout",
     "output_type": "stream",
     "text": [
      "\u001b[37m 2023/10/27 17:23:02: extracting stack mean projection images from 20191023_mouse3_region1 folder\u001b[0m\n"
     ]
    },
    {
     "name": "stderr",
     "output_type": "stream",
     "text": [
      "100%|██████████| 3/3 [00:00<00:00,  3.86it/s]"
     ]
    },
    {
     "name": "stdout",
     "output_type": "stream",
     "text": [
      "\u001b[37m 2023/10/27 17:23:03: saving reference distributions to 20191023_mouse3_region1 folder\u001b[0m\n"
     ]
    },
    {
     "name": "stderr",
     "output_type": "stream",
     "text": [
      "\n"
     ]
    },
    {
     "name": "stdout",
     "output_type": "stream",
     "text": [
      "\u001b[37m 2023/10/27 17:23:04: extracting stack mean projection images from 20190829_mouse10_region1 folder\u001b[0m\n"
     ]
    },
    {
     "name": "stderr",
     "output_type": "stream",
     "text": [
      "100%|██████████| 14/14 [00:03<00:00,  3.85it/s]"
     ]
    },
    {
     "name": "stdout",
     "output_type": "stream",
     "text": [
      "\u001b[37m 2023/10/27 17:23:08: saving reference distributions to 20190829_mouse10_region1 folder\u001b[0m\n"
     ]
    },
    {
     "name": "stderr",
     "output_type": "stream",
     "text": [
      "\n"
     ]
    },
    {
     "name": "stdout",
     "output_type": "stream",
     "text": [
      "\u001b[37m 2023/10/27 17:23:12: extracting stack mean projection images from 20190707_mouse1_region1 folder\u001b[0m\n"
     ]
    },
    {
     "name": "stderr",
     "output_type": "stream",
     "text": [
      "100%|██████████| 16/16 [00:04<00:00,  3.69it/s]"
     ]
    },
    {
     "name": "stdout",
     "output_type": "stream",
     "text": [
      "\u001b[37m 2023/10/27 17:23:17: saving reference distributions to 20190707_mouse1_region1 folder\u001b[0m\n"
     ]
    },
    {
     "name": "stderr",
     "output_type": "stream",
     "text": [
      "\n"
     ]
    },
    {
     "name": "stdout",
     "output_type": "stream",
     "text": [
      "\u001b[37m 2023/10/27 17:23:21: extracting stack mean projection images from 20191022_mouse1_region1 folder\u001b[0m\n"
     ]
    },
    {
     "name": "stderr",
     "output_type": "stream",
     "text": [
      "100%|██████████| 15/15 [00:04<00:00,  3.66it/s]"
     ]
    },
    {
     "name": "stdout",
     "output_type": "stream",
     "text": [
      "\u001b[37m 2023/10/27 17:23:25: saving reference distributions to 20191022_mouse1_region1 folder\u001b[0m\n"
     ]
    },
    {
     "name": "stderr",
     "output_type": "stream",
     "text": [
      "\n"
     ]
    },
    {
     "name": "stdout",
     "output_type": "stream",
     "text": [
      "\u001b[37m 2023/10/27 17:23:30: extracting stack mean projection images from 20191108_mouse6_region1 folder\u001b[0m\n"
     ]
    },
    {
     "name": "stderr",
     "output_type": "stream",
     "text": [
      "100%|██████████| 15/15 [00:03<00:00,  3.77it/s]"
     ]
    },
    {
     "name": "stdout",
     "output_type": "stream",
     "text": [
      "\u001b[37m 2023/10/27 17:23:34: saving reference distributions to 20191108_mouse6_region1 folder\u001b[0m\n"
     ]
    },
    {
     "name": "stderr",
     "output_type": "stream",
     "text": [
      "\n"
     ]
    },
    {
     "name": "stdout",
     "output_type": "stream",
     "text": [
      "\u001b[37m 2023/10/27 17:23:38: extracting stack mean projection images from 20191109_mouse7_region3_layer5 folder\u001b[0m\n"
     ]
    },
    {
     "name": "stderr",
     "output_type": "stream",
     "text": [
      "100%|██████████| 15/15 [00:03<00:00,  3.86it/s]"
     ]
    },
    {
     "name": "stdout",
     "output_type": "stream",
     "text": [
      "\u001b[37m 2023/10/27 17:23:42: saving reference distributions to 20191109_mouse7_region3_layer5 folder\u001b[0m\n"
     ]
    },
    {
     "name": "stderr",
     "output_type": "stream",
     "text": [
      "\n"
     ]
    },
    {
     "name": "stdout",
     "output_type": "stream",
     "text": [
      "\u001b[37m 2023/10/27 17:23:47: extracting stack mean projection images from 20191112_mouse12_region2_layer5 folder\u001b[0m\n"
     ]
    },
    {
     "name": "stderr",
     "output_type": "stream",
     "text": [
      "100%|██████████| 15/15 [00:03<00:00,  3.92it/s]"
     ]
    },
    {
     "name": "stdout",
     "output_type": "stream",
     "text": [
      "\u001b[37m 2023/10/27 17:23:50: saving reference distributions to 20191112_mouse12_region2_layer5 folder\u001b[0m\n"
     ]
    },
    {
     "name": "stderr",
     "output_type": "stream",
     "text": [
      "\n"
     ]
    },
    {
     "name": "stdout",
     "output_type": "stream",
     "text": [
      "\u001b[37m 2023/10/27 17:23:55: extracting stack mean projection images from 20191112_mouse12_region1 folder\u001b[0m\n"
     ]
    },
    {
     "name": "stderr",
     "output_type": "stream",
     "text": [
      "100%|██████████| 15/15 [00:03<00:00,  3.82it/s]"
     ]
    },
    {
     "name": "stdout",
     "output_type": "stream",
     "text": [
      "\u001b[37m 2023/10/27 17:23:59: saving reference distributions to 20191112_mouse12_region1 folder\u001b[0m\n"
     ]
    },
    {
     "name": "stderr",
     "output_type": "stream",
     "text": [
      "\n"
     ]
    },
    {
     "name": "stdout",
     "output_type": "stream",
     "text": [
      "\u001b[37m 2023/10/27 17:24:03: extracting stack mean projection images from 20191110_mouse10_region1 folder\u001b[0m\n"
     ]
    },
    {
     "name": "stderr",
     "output_type": "stream",
     "text": [
      "100%|██████████| 15/15 [00:03<00:00,  3.80it/s]"
     ]
    },
    {
     "name": "stdout",
     "output_type": "stream",
     "text": [
      "\u001b[37m 2023/10/27 17:24:07: saving reference distributions to 20191110_mouse10_region1 folder\u001b[0m\n"
     ]
    },
    {
     "name": "stderr",
     "output_type": "stream",
     "text": [
      "\n"
     ]
    },
    {
     "name": "stdout",
     "output_type": "stream",
     "text": [
      "\u001b[37m 2023/10/27 17:24:12: extracting stack mean projection images from 20191109_mouse7_region1 folder\u001b[0m\n"
     ]
    },
    {
     "name": "stderr",
     "output_type": "stream",
     "text": [
      "100%|██████████| 15/15 [00:03<00:00,  3.97it/s]"
     ]
    },
    {
     "name": "stdout",
     "output_type": "stream",
     "text": [
      "\u001b[37m 2023/10/27 17:24:15: saving reference distributions to 20191109_mouse7_region1 folder\u001b[0m\n"
     ]
    },
    {
     "name": "stderr",
     "output_type": "stream",
     "text": [
      "\n"
     ]
    },
    {
     "name": "stdout",
     "output_type": "stream",
     "text": [
      "\u001b[37m 2023/10/27 17:24:20: extracting stack mean projection images from 20191107_mouse1_region2 folder\u001b[0m\n"
     ]
    },
    {
     "name": "stderr",
     "output_type": "stream",
     "text": [
      "100%|██████████| 15/15 [00:03<00:00,  3.81it/s]"
     ]
    },
    {
     "name": "stdout",
     "output_type": "stream",
     "text": [
      "\u001b[37m 2023/10/27 17:24:24: saving reference distributions to 20191107_mouse1_region2 folder\u001b[0m\n"
     ]
    },
    {
     "name": "stderr",
     "output_type": "stream",
     "text": [
      "\n"
     ]
    },
    {
     "name": "stdout",
     "output_type": "stream",
     "text": [
      "\u001b[37m 2023/10/27 17:24:29: extracting stack mean projection images from 20190704_mouse3_region1 folder\u001b[0m\n"
     ]
    },
    {
     "name": "stderr",
     "output_type": "stream",
     "text": [
      "100%|██████████| 16/16 [00:04<00:00,  3.76it/s]"
     ]
    },
    {
     "name": "stdout",
     "output_type": "stream",
     "text": [
      "\u001b[37m 2023/10/27 17:24:33: saving reference distributions to 20190704_mouse3_region1 folder\u001b[0m\n"
     ]
    },
    {
     "name": "stderr",
     "output_type": "stream",
     "text": [
      "\n"
     ]
    },
    {
     "name": "stdout",
     "output_type": "stream",
     "text": [
      "\u001b[37m 2023/10/27 17:24:38: extracting stack mean projection images from 20200313_mouse14_region1 folder\u001b[0m\n"
     ]
    },
    {
     "name": "stderr",
     "output_type": "stream",
     "text": [
      "100%|██████████| 13/13 [00:03<00:00,  3.81it/s]"
     ]
    },
    {
     "name": "stdout",
     "output_type": "stream",
     "text": [
      "\u001b[37m 2023/10/27 17:24:41: saving reference distributions to 20200313_mouse14_region1 folder\u001b[0m\n"
     ]
    },
    {
     "name": "stderr",
     "output_type": "stream",
     "text": [
      "\n"
     ]
    },
    {
     "name": "stdout",
     "output_type": "stream",
     "text": [
      "\u001b[37m 2023/10/27 17:24:45: extracting stack mean projection images from 20191113_mouse9_region2 folder\u001b[0m\n"
     ]
    },
    {
     "name": "stderr",
     "output_type": "stream",
     "text": [
      "100%|██████████| 15/15 [00:03<00:00,  3.82it/s]"
     ]
    },
    {
     "name": "stdout",
     "output_type": "stream",
     "text": [
      "\u001b[37m 2023/10/27 17:24:49: saving reference distributions to 20191113_mouse9_region2 folder\u001b[0m\n"
     ]
    },
    {
     "name": "stderr",
     "output_type": "stream",
     "text": [
      "\n"
     ]
    },
    {
     "name": "stdout",
     "output_type": "stream",
     "text": [
      "\u001b[37m 2023/10/27 17:24:53: extracting stack mean projection images from 20191108_mouse6_region2 folder\u001b[0m\n"
     ]
    },
    {
     "name": "stderr",
     "output_type": "stream",
     "text": [
      "100%|██████████| 15/15 [00:03<00:00,  3.88it/s]"
     ]
    },
    {
     "name": "stdout",
     "output_type": "stream",
     "text": [
      "\u001b[37m 2023/10/27 17:24:57: saving reference distributions to 20191108_mouse6_region2 folder\u001b[0m\n"
     ]
    },
    {
     "name": "stderr",
     "output_type": "stream",
     "text": [
      "\n"
     ]
    },
    {
     "name": "stdout",
     "output_type": "stream",
     "text": [
      "\u001b[37m 2023/10/27 17:25:02: extracting stack mean projection images from 20191024_mouse5_region1 folder\u001b[0m\n"
     ]
    },
    {
     "name": "stderr",
     "output_type": "stream",
     "text": [
      "100%|██████████| 15/15 [00:03<00:00,  3.90it/s]"
     ]
    },
    {
     "name": "stdout",
     "output_type": "stream",
     "text": [
      "\u001b[37m 2023/10/27 17:25:05: saving reference distributions to 20191024_mouse5_region1 folder\u001b[0m\n"
     ]
    },
    {
     "name": "stderr",
     "output_type": "stream",
     "text": [
      "\n"
     ]
    },
    {
     "name": "stdout",
     "output_type": "stream",
     "text": [
      "\u001b[37m 2023/10/27 17:25:10: extracting stack mean projection images from 20191113_mouse9_region1 folder\u001b[0m\n"
     ]
    },
    {
     "name": "stderr",
     "output_type": "stream",
     "text": [
      "100%|██████████| 15/15 [00:03<00:00,  3.75it/s]"
     ]
    },
    {
     "name": "stdout",
     "output_type": "stream",
     "text": [
      "\u001b[37m 2023/10/27 17:25:14: saving reference distributions to 20191113_mouse9_region1 folder\u001b[0m\n"
     ]
    },
    {
     "name": "stderr",
     "output_type": "stream",
     "text": [
      "\n"
     ]
    },
    {
     "name": "stdout",
     "output_type": "stream",
     "text": [
      "\u001b[37m 2023/10/27 17:25:19: extracting stack mean projection images from 20191023_mouse10_region1 folder\u001b[0m\n"
     ]
    },
    {
     "name": "stderr",
     "output_type": "stream",
     "text": [
      "100%|██████████| 15/15 [00:03<00:00,  3.82it/s]"
     ]
    },
    {
     "name": "stdout",
     "output_type": "stream",
     "text": [
      "\u001b[37m 2023/10/27 17:25:23: saving reference distributions to 20191023_mouse10_region1 folder\u001b[0m\n"
     ]
    },
    {
     "name": "stderr",
     "output_type": "stream",
     "text": [
      "\n"
     ]
    },
    {
     "data": {
      "text/plain": [
       "line   dataset                   file                                                   pixel\n",
       "pv     20190702_mouse1_region1   pv_100frames_100Hz_200ms_3.56Hz_08MPA_50DC-217.tif     0         88.973750\n",
       "                                                                                        1         89.995625\n",
       "                                                                                        2         90.120625\n",
       "                                                                                        3         90.348750\n",
       "                                                                                        4         91.772500\n",
       "                                                                                                    ...    \n",
       "line3  20191023_mouse10_region1  line3_100frames_100Hz_200ms_3.56Hz_00MPA_50DC-681.tif  65531    132.023750\n",
       "                                                                                        65532    130.607500\n",
       "                                                                                        65533    131.259375\n",
       "                                                                                        65534    127.530000\n",
       "                                                                                        65535    121.303750\n",
       "Name: intensity, Length: 47579136, dtype: float64"
      ]
     },
     "execution_count": 151,
     "metadata": {},
     "output_type": "execute_result"
    }
   ],
   "source": [
    "def extract_reference_distribution(fpath, projfunc, verbose=True):\n",
    "    '''\n",
    "    Extract pixel intensity distribution from reference image of a TIF file.\n",
    "\n",
    "    :param fpath: Path to tif file.\n",
    "    :param projfunc: Projection function to get reference image from 3D stack.\n",
    "    :param verbose: Whether to print verbose output.\n",
    "    :return: Reference distribution as pandas Series.\n",
    "    '''\n",
    "    # Load tif stack\n",
    "    stack = loadtif(fpath, verbose=verbose)\n",
    "    # Compute reference image \n",
    "    refimg = projfunc(stack, axis=0)\n",
    "    # Create series from serialized pixel distribution\n",
    "    refdist = pd.Series(refimg.ravel(), name='intensity')\n",
    "    refdist.index.name = 'pixel'\n",
    "    # Return reference distribution\n",
    "    return refdist\n",
    "\n",
    "\n",
    "def extract_reference_distributions(folder, *args, **kwargs):\n",
    "    '''\n",
    "    Extract reference distributions from all TIF files in a folder\n",
    "\n",
    "    :param folder: Path to folder containing TIF files.\n",
    "    :return: Reference distributions as multi-indexed pandas Series.\n",
    "    '''\n",
    "    # Check if reference distributions have already been extracted\n",
    "    output_fpath = os.path.join(folder, f'{projfunc.__name__}_refdists.csv') \n",
    "\n",
    "    # If so, load them\n",
    "    if os.path.exists(output_fpath):\n",
    "        logger.info(f'loading reference distributions from {os.path.basename(folder)} folder')\n",
    "        refdists = pd.read_csv(output_fpath, index_col=['file', 'pixel'])['intensity']\n",
    "\n",
    "    # Otherwise, extract and save them\n",
    "    else:\n",
    "        logger.info(f'extracting stack {projfunc.__name__} projection images from {os.path.basename(folder)} folder')\n",
    "        fpaths = glob.glob(os.path.join(folder, '*.tif'))\n",
    "        fnames = [os.path.basename(fpath) for fpath in fpaths]\n",
    "        refdists = []\n",
    "        for fpath in tqdm(fpaths):\n",
    "            refdists.append(\n",
    "                extract_reference_distribution(fpath, *args, verbose=False, **kwargs))\n",
    "        refdists = pd.concat(\n",
    "            refdists, axis=0, keys=fnames, names=['file'])\n",
    "        logger.info(f'saving reference distributions to {os.path.basename(folder)} folder')\n",
    "        refdists.to_csv(output_fpath)\n",
    "    \n",
    "    # Return reference distributions\n",
    "    return refdists\n",
    "\n",
    "\n",
    "# Loop over lines\n",
    "ref_dists = []\n",
    "for line in lines:\n",
    "    # Get dataset folders in line subdirectory\n",
    "    linedir = os.path.join(datadir, line)\n",
    "    dataset_folders = get_data_folders(linedir)\n",
    "    datasets = [os.path.basename(df) for df in dataset_folders]\n",
    "\n",
    "    # Extract reference distributions from all datasets in line\n",
    "    ref_dists.append(pd.concat(\n",
    "        [extract_reference_distributions(folder, projfunc) for folder in dataset_folders],\n",
    "        axis=0, keys=datasets, names=[Label.DATASET]\n",
    "    ))\n",
    "\n",
    "# Concatenate reference distributions from all lines\n",
    "ref_dists = pd.concat(ref_dists, axis=0, keys=lines, names=[Label.LINE])\n",
    "ref_dists    "
   ]
  },
  {
   "cell_type": "markdown",
   "metadata": {},
   "source": [
    "### Compute and plot skewness of each distribution"
   ]
  },
  {
   "cell_type": "code",
   "execution_count": 153,
   "metadata": {},
   "outputs": [
    {
     "name": "stdout",
     "output_type": "stream",
     "text": [
      "\u001b[37m 2023/10/27 17:26:45: computing skewness for each reference distribution\u001b[0m\n",
      "\u001b[37m 2023/10/27 17:27:03: plotting skewness distributions for line3 line\u001b[0m\n",
      "\u001b[37m 2023/10/27 17:27:03: plotting skewness distributions for pv line\u001b[0m\n",
      "\u001b[37m 2023/10/27 17:27:04: plotting skewness distributions for sst line\u001b[0m\n",
      "\u001b[37m 2023/10/27 17:27:04: plotting adatset-averaged skewness distributions across lines\u001b[0m\n"
     ]
    },
    {
     "data": {
      "image/png": "[encoded data removed]",
      "text/plain": [
       "<Figure size 288x1296 with 3 Axes>"
      ]
     },
     "metadata": {
      "needs_background": "light"
     },
     "output_type": "display_data"
    },
    {
     "data": {
      "image/png": "[encoded data removed]",
      "text/plain": [
       "<Figure size 360x360 with 1 Axes>"
      ]
     },
     "metadata": {
      "needs_background": "light"
     },
     "output_type": "display_data"
    }
   ],
   "source": [
    "# Compute skewness for each ref dist\n",
    "logger.info('computing skewness for each reference distribution')\n",
    "skews = (ref_dists\n",
    "    .groupby([Label.LINE, Label.DATASET, 'file'])\n",
    "    .agg(skew)\n",
    "    .rename('skew')\n",
    ")\n",
    "\n",
    "# Plot skewness distributions across lines, datasets, and runs\n",
    "fig, axes = plt.subplots(len(lines), 1, figsize=(4, len(lines) * 6))\n",
    "sns.despine(fig=fig)\n",
    "for ax, (line, lskews) in zip(axes, skews.groupby(Label.LINE)):\n",
    "    logger.info(f'plotting skewness distributions for {line} line')\n",
    "    sns.boxplot(\n",
    "        data=lskews.reset_index(),\n",
    "        ax=ax,\n",
    "        y=Label.DATASET,\n",
    "        x='skew',\n",
    "        color='silver',\n",
    "    )\n",
    "    ax.set_title(line)\n",
    "    ax.axvline(0, color='k', linestyle='--')\n",
    "harmonize_axes_limits(axes, axkey='x')\n",
    "\n",
    "# Plot dataset-averaged skewness distributions across lines \n",
    "logger.info(f'plotting adatset-averaged skewness distributions across lines')\n",
    "aggskews = skews.groupby([Label.LINE, Label.DATASET]).mean()\n",
    "fig, ax = plt.subplots(figsize=(5, 5))\n",
    "ax.set_title('Dataset-averaged skewness distributions')\n",
    "sns.despine(ax=ax)\n",
    "pltkwargs = dict(\n",
    "    data=aggskews.reset_index(),\n",
    "    ax=ax,\n",
    "    x=Label.LINE,\n",
    "    y='skew',\n",
    ")\n",
    "sns.boxplot(palette=Palette.LINE, showfliers=False, **pltkwargs)\n",
    "sns.stripplot(color='dimgray', **pltkwargs)\n",
    "ax.axhline(0, color='k', linestyle='--');"
   ]
  },
  {
   "cell_type": "markdown",
   "metadata": {},
   "source": [
    "### Plot histogram distributions"
   ]
  },
  {
   "cell_type": "code",
   "execution_count": null,
   "metadata": {},
   "outputs": [],
   "source": [
    "# for line, ldists in ref_dists.groupby(Label.LINE):\n",
    "#     g = sns.displot(\n",
    "#         kind='hist', \n",
    "#         data=ldists.reset_index(), \n",
    "#         x='intensity',\n",
    "#         col=Label.DATASET,\n",
    "#         hue=Label.RUNID,\n",
    "#         col_wrap=4, \n",
    "#         height=3,\n",
    "#         bins='sqrt',\n",
    "#         legend='full',\n",
    "#     )\n",
    "#     g.set_titles('{col_name}')\n",
    "#     g.fig.suptitle(f'{line} reference distributions', y=1.05)"
   ]
  }
 ],
 "metadata": {
  "kernelspec": {
   "display_name": "Python 3 (ipykernel)",
   "language": "python",
   "name": "python3"
  },
  "language_info": {
   "codemirror_mode": {
    "name": "ipython",
    "version": 3
   },
   "file_extension": ".py",
   "mimetype": "text/x-python",
   "name": "python",
   "nbconvert_exporter": "python",
   "pygments_lexer": "ipython3",
   "version": "3.8.13"
  }
 },
 "nbformat": 4,
 "nbformat_minor": 2
}
