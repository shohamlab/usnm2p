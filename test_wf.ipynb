{
 "cells": [
  {
   "cell_type": "markdown",
   "metadata": {},
   "source": [
    "### Imports"
   ]
  },
  {
   "cell_type": "code",
   "execution_count": 1,
   "metadata": {},
   "outputs": [],
   "source": [
    "%load_ext autoreload\n",
    "%autoreload 2"
   ]
  },
  {
   "cell_type": "code",
   "execution_count": 2,
   "metadata": {},
   "outputs": [],
   "source": [
    "import numpy as np\n",
    "import seaborn as sns\n",
    "import matplotlib.pyplot as plt\n",
    "import pandas as pd\n",
    "\n",
    "from logger import logger\n",
    "from utils import si_format\n",
    "from wfutils import *"
   ]
  },
  {
   "cell_type": "markdown",
   "metadata": {},
   "source": [
    "### Input parameters"
   ]
  },
  {
   "cell_type": "code",
   "execution_count": 28,
   "metadata": {},
   "outputs": [],
   "source": [
    "# Waveform parameters\n",
    "Fdrive = 2.1e6  # carrier frequency (Hz)\n",
    "P = 0.8  # pressure amplitude (MPa)\n",
    "tstim = 200e-3  # burst duration (s)\n",
    "PRF = 100.  # burst internal PRF (Hz)\n",
    "npts = 100  # nominal waveform envelope vector size\n",
    "npulses = 5  # number of pulses in the burst\n",
    "DCvec = np.linspace(5, 100, 20)  # burst internal duty cycles (%)\n",
    "\n",
    "# Spectrum extraction settings\n",
    "norm = False  #True  # whether to normalize computed spectra to their maximum value\n",
    "dB = True  # whether to convert computed spectra to dB units\n",
    "\n",
    "# Plot settings\n",
    "plot_wfs = Fdrive / PRF < 1e3  # determine if we need to plot waveforms\n",
    "if DCvec.size > 5:\n",
    "    iplt = np.linspace(0, DCvec.size - 1, 5).astype(int)\n",
    "else:\n",
    "    iplt = np.arange(DCvec.size)\n",
    "fcolors = {'carrier': 'k', 'PRF': 'r'}"
   ]
  },
  {
   "cell_type": "code",
   "execution_count": 29,
   "metadata": {},
   "outputs": [
    {
     "name": "stdout",
     "output_type": "stream",
     "text": [
      "\u001b[37m 2024/04/08 11:04:45: looping through duty cycles and generating waveforms\u001b[0m\n",
      "\u001b[37m 2024/04/08 11:04:45: generating waveform for DC = 5% (PD = 0.50 ms)\u001b[0m\n"
     ]
    },
    {
     "name": "stdout",
     "output_type": "stream",
     "text": [
      "\u001b[37m 2024/04/08 11:04:46: generating waveform for DC = 10% (PD = 1.00 ms)\u001b[0m\n",
      "\u001b[37m 2024/04/08 11:04:46: generating waveform for DC = 15% (PD = 1.50 ms)\u001b[0m\n",
      "\u001b[37m 2024/04/08 11:04:46: generating waveform for DC = 20% (PD = 2.00 ms)\u001b[0m\n",
      "\u001b[37m 2024/04/08 11:04:46: generating waveform for DC = 25% (PD = 2.50 ms)\u001b[0m\n",
      "\u001b[37m 2024/04/08 11:04:46: generating waveform for DC = 30% (PD = 3.00 ms)\u001b[0m\n",
      "\u001b[37m 2024/04/08 11:04:46: generating waveform for DC = 35% (PD = 3.50 ms)\u001b[0m\n",
      "\u001b[37m 2024/04/08 11:04:47: generating waveform for DC = 40% (PD = 4.00 ms)\u001b[0m\n",
      "\u001b[37m 2024/04/08 11:04:47: generating waveform for DC = 45% (PD = 4.50 ms)\u001b[0m\n",
      "\u001b[37m 2024/04/08 11:04:47: generating waveform for DC = 50% (PD = 5.00 ms)\u001b[0m\n",
      "\u001b[37m 2024/04/08 11:04:47: generating waveform for DC = 55% (PD = 5.50 ms)\u001b[0m\n",
      "\u001b[37m 2024/04/08 11:04:47: generating waveform for DC = 60% (PD = 6.00 ms)\u001b[0m\n",
      "\u001b[37m 2024/04/08 11:04:47: generating waveform for DC = 65% (PD = 6.50 ms)\u001b[0m\n",
      "\u001b[37m 2024/04/08 11:04:47: generating waveform for DC = 70% (PD = 7.00 ms)\u001b[0m\n",
      "\u001b[37m 2024/04/08 11:04:48: generating waveform for DC = 75% (PD = 7.50 ms)\u001b[0m\n",
      "\u001b[37m 2024/04/08 11:04:48: generating waveform for DC = 80% (PD = 8.00 ms)\u001b[0m\n",
      "\u001b[37m 2024/04/08 11:04:48: generating waveform for DC = 85% (PD = 8.50 ms)\u001b[0m\n",
      "\u001b[37m 2024/04/08 11:04:48: generating waveform for DC = 90% (PD = 9.00 ms)\u001b[0m\n",
      "\u001b[37m 2024/04/08 11:04:48: generating waveform for DC = 95% (PD = 9.50 ms)\u001b[0m\n",
      "\u001b[37m 2024/04/08 11:04:48: generating waveform for DC = 100% (PD = 10.00 ms)\u001b[0m\n"
     ]
    },
    {
     "data": {
      "image/png": "[encoded data removed]",
      "text/plain": [
       "<Figure size 216x216 with 1 Axes>"
      ]
     },
     "metadata": {
      "needs_background": "light"
     },
     "output_type": "display_data"
    }
   ],
   "source": [
    "# Create figure if plotting waveforms flag is set\n",
    "if plot_wfs:\n",
    "    fig, axes = plt.subplots(len(iplt), 2, figsize=(8, 2 * len(iplt)), sharex='col', sharey='col')\n",
    "else:\n",
    "    axes = [None] * len(DCvec)\n",
    "\n",
    "# Define empty dataframe for storing spectrum values at carrier and PRF\n",
    "spectrum_values = pd.DataFrame(\n",
    "    index=pd.Index(DCvec, name='DC (%)'),\n",
    "    columns=pd.Index(fcolors.keys(), name='frequency')\n",
    ")\n",
    "\n",
    "# Loop over DC vector\n",
    "logger.info('looping through duty cycles and generating waveforms')\n",
    "irow = 0\n",
    "for i, DC in enumerate(DCvec):\n",
    "    # Generate label\n",
    "    label = f'DC = {DC:.0f}%'\n",
    "\n",
    "    # Compute pulse duration\n",
    "    PD = (DC * 1e-2) / PRF  # s\n",
    "    toffset = 1 / PRF - PD  # s\n",
    "\n",
    "    # Generate envelope and waveform\n",
    "    logger.info(f'generating waveform for {label} (PD = {PD * 1e3:.2f} ms)')\n",
    "    tenv, yenv = get_pulse_envelope(npts, PD, toffset=toffset, nreps=npulses)\n",
    "    tdense, ydense, yenvdense = get_full_waveform(tenv, yenv, Fdrive)\n",
    "\n",
    "    # Plot waveform trace and spectrum, if specified\n",
    "    if plot_wfs and i in iplt:\n",
    "        logger.info(f'plotting waveform trace and spectrum for {label}')\n",
    "        axrow = axes[irow]\n",
    "        irow += 1\n",
    "        plot_waveform_trace(tenv, yenv, Fdrive, ax=axrow[0])\n",
    "        plot_waveform_spectrum(tdense, ydense, label=label, ax=axrow[1], norm=norm, dB=dB)\n",
    "\n",
    "    # Compute dB power spectrum\n",
    "    freqs, ps = get_power_spectrum(tdense, ydense, norm=norm, dB=dB)\n",
    "\n",
    "    # Extract power spectrum values at carrier freq and PRF\n",
    "    spectrum_values.loc[DC, 'carrier'] = np.interp(Fdrive, freqs, ps)\n",
    "    spectrum_values.loc[DC, 'PRF'] = np.interp(PRF, freqs, ps)\n",
    "\n",
    "if plot_wfs:\n",
    "    # Add vertical lines for carrier and PRF on spectrum plots\n",
    "    for ax in axes[:, 1]:\n",
    "        for fname, fval in {'carrier': Fdrive, 'PRF': PRF}.items():\n",
    "            ax.axvline(\n",
    "                fval, ls='--', lw=1, label=f'{fname} = {si_format(fval)}Hz', c=fcolors[fname])\n",
    "        ax.legend()\n",
    "        sns.move_legend(ax, 'center left', bbox_to_anchor=(1, 0.5), frameon=False)\n",
    "\n",
    "    # Adjust figure layout and render\n",
    "    fig.tight_layout()\n",
    "\n",
    "sname = 'spectrum amplitude'\n",
    "if norm:\n",
    "    snane = f'normalized {sname}'\n",
    "if dB:\n",
    "    sname = f'{sname} (dB)'\n",
    "spectrum_values = spectrum_values.stack().rename(sname)\n",
    "\n",
    "# Plot log-spectrum value at carrier and PRF as a function of DC\n",
    "fig, ax = plt.subplots(figsize=(3, 3))\n",
    "sns.despine(ax=ax)\n",
    "ax.set_title(f'spectrum amplitude at characteristic frequencies')\n",
    "sns.lineplot(\n",
    "    ax=ax,\n",
    "    data=spectrum_values.reset_index(),\n",
    "    x='DC (%)',\n",
    "    y=sname,\n",
    "    hue='frequency',\n",
    "    palette=fcolors,\n",
    ");"
   ]
  },
  {
   "cell_type": "code",
   "execution_count": null,
   "metadata": {},
   "outputs": [],
   "source": []
  }
 ],
 "metadata": {
  "kernelspec": {
   "display_name": "Python 3 (ipykernel)",
   "language": "python",
   "name": "python3"
  }
 },
 "nbformat": 4,
 "nbformat_minor": 2
}
