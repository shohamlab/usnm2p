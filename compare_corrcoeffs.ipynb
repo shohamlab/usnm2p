{
 "cells": [
  {
   "cell_type": "markdown",
   "metadata": {},
   "source": [
    "### Imports"
   ]
  },
  {
   "cell_type": "code",
   "execution_count": 1,
   "metadata": {},
   "outputs": [],
   "source": [
    "# External packages\n",
    "import os\n",
    "import pandas as pd\n",
    "from statannotations.Annotator import Annotator\n",
    "from scipy.stats import normaltest\n",
    "\n",
    "# Internal modules\n",
    "from logger import logger\n",
    "from constants import *\n",
    "from utils import *\n",
    "from fileops import *\n",
    "\n",
    "# Figures dictionary\n",
    "figs = {}"
   ]
  },
  {
   "cell_type": "markdown",
   "metadata": {},
   "source": [
    "### Load dataset-aggregated data of response state dependency across lines"
   ]
  },
  {
   "cell_type": "code",
   "execution_count": 2,
   "metadata": {},
   "outputs": [
    {
     "data": {
      "text/html": [
       "<div>\n",
       "<style scoped>\n",
       "    .dataframe tbody tr th:only-of-type {\n",
       "        vertical-align: middle;\n",
       "    }\n",
       "\n",
       "    .dataframe tbody tr th {\n",
       "        vertical-align: top;\n",
       "    }\n",
       "\n",
       "    .dataframe thead th {\n",
       "        text-align: right;\n",
       "    }\n",
       "</style>\n",
       "<table border=\"1\" class=\"dataframe\">\n",
       "  <thead>\n",
       "    <tr style=\"text-align: right;\">\n",
       "      <th></th>\n",
       "      <th></th>\n",
       "      <th></th>\n",
       "      <th>R</th>\n",
       "    </tr>\n",
       "    <tr>\n",
       "      <th>line</th>\n",
       "      <th>dataset</th>\n",
       "      <th>I_SPTA (W/cm2)</th>\n",
       "      <th></th>\n",
       "    </tr>\n",
       "  </thead>\n",
       "  <tbody>\n",
       "    <tr>\n",
       "      <th rowspan=\"5\" valign=\"top\">line3</th>\n",
       "      <th rowspan=\"5\" valign=\"top\">20190704_mouse2_region1</th>\n",
       "      <th>0.00</th>\n",
       "      <td>-0.592156</td>\n",
       "    </tr>\n",
       "    <tr>\n",
       "      <th>0.04</th>\n",
       "      <td>-0.579223</td>\n",
       "    </tr>\n",
       "    <tr>\n",
       "      <th>0.15</th>\n",
       "      <td>-0.655362</td>\n",
       "    </tr>\n",
       "    <tr>\n",
       "      <th>0.20</th>\n",
       "      <td>-0.526026</td>\n",
       "    </tr>\n",
       "    <tr>\n",
       "      <th>0.62</th>\n",
       "      <td>-0.640729</td>\n",
       "    </tr>\n",
       "    <tr>\n",
       "      <th>...</th>\n",
       "      <th>...</th>\n",
       "      <th>...</th>\n",
       "      <td>...</td>\n",
       "    </tr>\n",
       "    <tr>\n",
       "      <th rowspan=\"5\" valign=\"top\">sst</th>\n",
       "      <th rowspan=\"5\" valign=\"top\">20190808_mouse8_region1</th>\n",
       "      <th>7.91</th>\n",
       "      <td>-0.365721</td>\n",
       "    </tr>\n",
       "    <tr>\n",
       "      <th>9.89</th>\n",
       "      <td>-0.423918</td>\n",
       "    </tr>\n",
       "    <tr>\n",
       "      <th>11.87</th>\n",
       "      <td>-0.339938</td>\n",
       "    </tr>\n",
       "    <tr>\n",
       "      <th>13.85</th>\n",
       "      <td>-0.358370</td>\n",
       "    </tr>\n",
       "    <tr>\n",
       "      <th>15.83</th>\n",
       "      <td>-0.298370</td>\n",
       "    </tr>\n",
       "  </tbody>\n",
       "</table>\n",
       "<p>495 rows × 1 columns</p>\n",
       "</div>"
      ],
      "text/plain": [
       "                                                     R\n",
       "line  dataset                 I_SPTA (W/cm2)          \n",
       "line3 20190704_mouse2_region1 0.00           -0.592156\n",
       "                              0.04           -0.579223\n",
       "                              0.15           -0.655362\n",
       "                              0.20           -0.526026\n",
       "                              0.62           -0.640729\n",
       "...                                                ...\n",
       "sst   20190808_mouse8_region1 7.91           -0.365721\n",
       "                              9.89           -0.423918\n",
       "                              11.87          -0.339938\n",
       "                              13.85          -0.358370\n",
       "                              15.83          -0.298370\n",
       "\n",
       "[495 rows x 1 columns]"
      ]
     },
     "execution_count": 2,
     "metadata": {},
     "output_type": "execute_result"
    }
   ],
   "source": [
    "lines = ['line3', 'sst']\n",
    "root = split_path_at(get_data_root(), 'raw')[0]\n",
    "corrcoeffs = []\n",
    "for line in lines:\n",
    "    fpath = os.path.join(root, f'corrcoeffs_{line}.csv')\n",
    "    s = pd.read_csv(fpath).assign(line=line).set_index('line')\n",
    "    for k in [Label.DATASET, Label.ISPTA]:\n",
    "        s.set_index(k, append=True, inplace=True)\n",
    "    corrcoeffs.append(s.sort_index())\n",
    "corrcoeffs = pd.concat(corrcoeffs, axis=0)\n",
    "corrcoeffs"
   ]
  },
  {
   "cell_type": "markdown",
   "metadata": {},
   "source": [
    "### Plot and compare correlation coefficients trends across lines"
   ]
  },
  {
   "cell_type": "code",
   "execution_count": 4,
   "metadata": {},
   "outputs": [
    {
     "name": "stdout",
     "output_type": "stream",
     "text": [
      "\u001b[37m 2023/10/11 15:32:57: plotting results vs ISPTA...\u001b[0m\n"
     ]
    },
    {
     "name": "stdout",
     "output_type": "stream",
     "text": [
      "\u001b[37m 2023/10/11 15:32:57: testing normality of distributions...\u001b[0m\n",
      "p-value annotation legend:\n",
      "      ns: p <= 1.00e+00\n",
      "       *: 1.00e-02 < p <= 5.00e-02\n",
      "      **: 1.00e-03 < p <= 1.00e-02\n",
      "     ***: 1.00e-04 < p <= 1.00e-03\n",
      "    ****: p <= 1.00e-04\n",
      "\n",
      "line3 vs. sst: Mann-Whitney-Wilcoxon test two-sided, P_val:2.967e-10 U_stat=1.974e+04\n"
     ]
    },
    {
     "data": {
      "text/plain": [
       "Text(0.5, 1.05, 'state dependent response strength - comparative analysis')"
      ]
     },
     "execution_count": 4,
     "metadata": {},
     "output_type": "execute_result"
    },
    {
     "data": {
      "image/png": "[encoded data removed]",
      "text/plain": [
       "<Figure size 432x216 with 2 Axes>"
      ]
     },
     "metadata": {
      "needs_background": "light"
     },
     "output_type": "display_data"
    }
   ],
   "source": [
    "# Create figure and axes\n",
    "figs['corrcoeff comparison'], axes = plt.subplots(1, 2, figsize=(6, 3))\n",
    "for ax in axes:\n",
    "    sns.despine(ax=ax)\n",
    "    ax.set_ylim(-1, 0)\n",
    "\n",
    "# Plot correlation coefficient distributions vs ISPTA\n",
    "logger.info('plotting results vs ISPTA...')\n",
    "sns.lineplot(\n",
    "    ax=axes[0],\n",
    "    data=corrcoeffs,\n",
    "    x=Label.ISPTA,\n",
    "    y='R',\n",
    "    hue=Label.LINE,\n",
    "    palette=Palette.LINE,\n",
    "    errorbar='se',\n",
    ")\n",
    "axes[0].legend(frameon=False)\n",
    "\n",
    "# Determine whether distributions are normal\n",
    "logger.info('testing normality of distributions...')\n",
    "normalres = (corrcoeffs\n",
    "    .groupby(Label.LINE)\n",
    "    .agg(lambda s: normaltest(s).pvalue)\n",
    "    ['R']\n",
    "    .rename('pval')\n",
    "    .to_frame()\n",
    ")\n",
    "normalres['normal'] = normalres['pval'] > 0.05\n",
    "normalres\n",
    "\n",
    "# Derive statistical test to use\n",
    "if normalres['normal'].all():\n",
    "    test = 't-test_ind'\n",
    "else:\n",
    "    test = 'Mann-Whitney'\n",
    "\n",
    "# Plot comparative correlation coefficient distributions aggregated across conditions \n",
    "pltkwargs = dict(\n",
    "    ax=axes[1],\n",
    "    data=corrcoeffs.reset_index(),\n",
    "    x=Label.LINE,\n",
    "    y='R',\n",
    "    palette=Palette.LINE,\n",
    ")\n",
    "sns.violinplot(**pltkwargs)\n",
    "\n",
    "# Perform statistical test and annotate plot \n",
    "annotator = Annotator(pairs=[tuple(lines)], **pltkwargs)\n",
    "annotator.configure(test=test, loc='outside')\n",
    "annotator.apply_and_annotate()\n",
    "\n",
    "# Adjust layout\n",
    "figs['corrcoeff comparison'].tight_layout()\n",
    "figs['corrcoeff comparison'].suptitle('state dependent response strength - comparative analysis', y=1.05)"
   ]
  }
 ],
 "metadata": {
  "kernelspec": {
   "display_name": "usnm2p",
   "language": "python",
   "name": "python3"
  },
  "language_info": {
   "codemirror_mode": {
    "name": "ipython",
    "version": 3
   },
   "file_extension": ".py",
   "mimetype": "text/x-python",
   "name": "python",
   "nbconvert_exporter": "python",
   "pygments_lexer": "ipython3",
   "version": "3.8.13"
  }
 },
 "nbformat": 4,
 "nbformat_minor": 2
}
